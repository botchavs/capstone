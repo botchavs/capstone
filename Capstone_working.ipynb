{
 "cells": [
  {
   "cell_type": "markdown",
   "id": "b4be24e7",
   "metadata": {},
   "source": [
    "# Capstone Project - Data Science @ BrainStation\n",
    "\n",
    "##  Introduction\n",
    "\n",
    "This Jupiter notebook forms the core component of my Capstone project under the Data Science Diploma Program at BrainStation, Vancouver. In this notebook, we use base Python together with some of the widely used libraries to investigate, analyse a dataset sourced from loan data released by Lending Club, a US-based peer-to-peer lender. At it's peak, Lending club was largest P2P lender in the world with assets of ~16 billion USD. The dataset contains the features of various loans extended by Lending Club spanning from 2007 and 2018 and the corresponding details of the borrowers, who had availed the loan. The key detail of the loan captured in the dataset is 'loan_status', which has two values 'Fully Paid' or 'Charged Off', which means all these loans have been closed and there are no running loans in this dataset.\n",
    "\n",
    "The dataset was obtained from [Kaggle](https://www.kaggle.com/datasets/jeandedieunyandwi/lending-club-dataset/code?datasetId=608703&sortBy=voteCount).\n",
    "\n",
    "In this note, I will be demonstrating how to perform EDA, visualise data, and apply some machine learning techniques to solves problem of prediction.\n"
   ]
  },
  {
   "cell_type": "markdown",
   "id": "4958aa93",
   "metadata": {},
   "source": [
    "## Table of Contents\n",
    "[1. Loading data & checking high-level details](#Step-1:-Loading-data-&-checking-high-level-details) <br>\n",
    "- [Data Dictionary](#Data-Dictionary)\n",
    "\n",
    "\n",
    "\n",
    "[2. Verifying assumptions associated with linear regression models](#Step-2:-Verifying-assumptions-associated-with-linear-regression-models) <br>\n",
    "- [Linearity](#2.1.-Linearity) <br>\n",
    "- [Independence](#2.2.-Independence-or-No-Multicollienearity)\n",
    "- [Normality](#2.3.-Residuals-Are-Normally-Distributed)\n",
    "- [Homoscedasticity](#2.4.-Homoscedasticity)\n",
    "\n",
    "[3. Variable selection for model](#Step-3:-Variable-selection-for-model) <br>\n",
    "- [Backward or Top-Down approach](#3.1.-Backward-or-Top-Down-approach)\n",
    "- [Forward or Bottom-Up approach](#3.2.-Forward-or-Bottom-Up-approach)\n",
    "\n",
    "[4. Model Diagnostics](#Step-4:-Model-Diagnostics)\n",
    "- [Residuals](#4.1.-Residuals)\n",
    "- [Homoscedasticity](#4.2-Homoscedasticity)\n",
    "\n",
    "[5. Conclusion](#5.-Conclusion)"
   ]
  },
  {
   "cell_type": "markdown",
   "id": "d51f14e4",
   "metadata": {},
   "source": [
    "### Data Dictionary\n",
    "\n",
    "| S.No | Column Name           | Description                                                                                                 |\n",
    "|------|-----------------------|-------------------------------------------------------------------------------------------------------------|\n",
    "| 0    | loan_amount           | The listed amount of the loan in USD applied for by the borrower. If at some point in time, the credit department reduces the loan amount, then it will be reflected in this value.|\n",
    "| 1    | term                  | The number of payments on the loan. Values are in months and can be either 36 or 60.                          |\n",
    "| 2    | int_rate              | Interest Rate on the loan                                                                                    |\n",
    "| 3    | installment           | The monthly payment owed by the borrower                                                                    |                                           \n",
    "| 4    | grade                 | Lending Club assigned loan grade                                                                                      |\n",
    "| 5    | sub_grade             | Lending Club assigned loan subgrade                                                                                   |\n",
    "| 6    | emp_title             | The job title supplied by the Borrower when applying for the loan.                                          |   \n",
    "| 7    | emp_length            | Employment length in years. Possible values are between 0 and 10 where 0 means less than one year and 10 means ten or more years.|\n",
    "| 8    | home_ownership        | The homeownership status provided by the borrower during registration or obtained from the credit report. The values are: RENT, OWN, MORTGAGE, OTHER|\n",
    "| 9    | annual_inc            | The self-reported annual income provided by the borrower during registration.                                 |\n",
    "| 10   | verification_status   | Indicates if income was verified by LC, not verified, or if the income source was verified                    |\n",
    "| 11   | issue_d               | The month which the loan was funded                                                                         |\n",
    "| 12   | loan_status           | Current status of the loan                                                                                 |\n",
    "| 13   | purpose               | A category provided by the borrower for the loan request.                                                   |\n",
    "| 14   | title                 | The loan title provided by the borrower                                                                    |\n",
    "| 15   | zip_code              | The first 3 numbers of the zip code provided by the borrower in the loan application.                         |\n",
    "| 16   | addr_state            | The state provided by the borrower in the loan application                                                  |\n",
    "| 17   | dti                   | A ratio calculated using the borrower’s total monthly debt payments on the total debt obligations, excluding mortgage and the requested LC loan, divided by the borrower’s self-reported monthly income.|\n",
    "| 18   | earliest_cr_line      | The month the borrower's earliest reported credit line was opened                                            |\n",
    "| 19   | open_acc              | The number of open credit lines in the borrower's credit file.                                               |\n",
    "| 20   | pub_rec               | Number of derogatory public records                                                                        |\n",
    "| 21   | revol_bal             | Total credit revolving balance                                                                             |\n",
    "| 22   | revol_util            | Revolving line utilization rate, or the amount of credit the borrower is using relative to all available revolving credit.|\n",
    "| 23   | total_acc             | The total number of credit lines currently in the borrower's credit file                                     |\n",
    "| 24   | initial_list_status   | The initial listing status of the loan. Possible values are – W, F. W stands for Whole loan and F stands for fractional.                                           |\n",
    "| 25   | application_type      | Indicates whether the loan is an individual application or a joint application with two co-borrowers         |\n",
    "| 26   | mort_acc              | Number of mortgage accounts.                                                                               |\n",
    "| 27   | pub_rec_bankruptcies  | Number of public record bankruptcies "
   ]
  },
  {
   "cell_type": "markdown",
   "id": "23f8ab63",
   "metadata": {},
   "source": [
    "## Data Exploration"
   ]
  },
  {
   "cell_type": "code",
   "execution_count": 1,
   "id": "74befe00",
   "metadata": {},
   "outputs": [
    {
     "data": {
      "application/javascript": [
       "(function(root) {\n",
       "  function now() {\n",
       "    return new Date();\n",
       "  }\n",
       "\n",
       "  var force = true;\n",
       "  var py_version = '3.3.0'.replace('rc', '-rc.').replace('.dev', '-dev.');\n",
       "  var is_dev = py_version.indexOf(\"+\") !== -1 || py_version.indexOf(\"-\") !== -1;\n",
       "  var reloading = false;\n",
       "  var Bokeh = root.Bokeh;\n",
       "  var bokeh_loaded = Bokeh != null && (Bokeh.version === py_version || (Bokeh.versions !== undefined && Bokeh.versions.has(py_version)));\n",
       "\n",
       "  if (typeof (root._bokeh_timeout) === \"undefined\" || force) {\n",
       "    root._bokeh_timeout = Date.now() + 5000;\n",
       "    root._bokeh_failed_load = false;\n",
       "  }\n",
       "\n",
       "  function run_callbacks() {\n",
       "    try {\n",
       "      root._bokeh_onload_callbacks.forEach(function(callback) {\n",
       "        if (callback != null)\n",
       "          callback();\n",
       "      });\n",
       "    } finally {\n",
       "      delete root._bokeh_onload_callbacks;\n",
       "    }\n",
       "    console.debug(\"Bokeh: all callbacks have finished\");\n",
       "  }\n",
       "\n",
       "  function load_libs(css_urls, js_urls, js_modules, js_exports, callback) {\n",
       "    if (css_urls == null) css_urls = [];\n",
       "    if (js_urls == null) js_urls = [];\n",
       "    if (js_modules == null) js_modules = [];\n",
       "    if (js_exports == null) js_exports = {};\n",
       "\n",
       "    root._bokeh_onload_callbacks.push(callback);\n",
       "\n",
       "    if (root._bokeh_is_loading > 0) {\n",
       "      console.debug(\"Bokeh: BokehJS is being loaded, scheduling callback at\", now());\n",
       "      return null;\n",
       "    }\n",
       "    if (js_urls.length === 0 && js_modules.length === 0 && Object.keys(js_exports).length === 0) {\n",
       "      run_callbacks();\n",
       "      return null;\n",
       "    }\n",
       "    if (!reloading) {\n",
       "      console.debug(\"Bokeh: BokehJS not loaded, scheduling load and callback at\", now());\n",
       "    }\n",
       "\n",
       "    function on_load() {\n",
       "      root._bokeh_is_loading--;\n",
       "      if (root._bokeh_is_loading === 0) {\n",
       "        console.debug(\"Bokeh: all BokehJS libraries/stylesheets loaded\");\n",
       "        run_callbacks()\n",
       "      }\n",
       "    }\n",
       "    window._bokeh_on_load = on_load\n",
       "\n",
       "    function on_error() {\n",
       "      console.error(\"failed to load \" + url);\n",
       "    }\n",
       "\n",
       "    var skip = [];\n",
       "    if (window.requirejs) {\n",
       "      window.requirejs.config({'packages': {}, 'paths': {'jspanel': 'https://cdn.jsdelivr.net/npm/jspanel4@4.12.0/dist/jspanel', 'jspanel-modal': 'https://cdn.jsdelivr.net/npm/jspanel4@4.12.0/dist/extensions/modal/jspanel.modal', 'jspanel-tooltip': 'https://cdn.jsdelivr.net/npm/jspanel4@4.12.0/dist/extensions/tooltip/jspanel.tooltip', 'jspanel-hint': 'https://cdn.jsdelivr.net/npm/jspanel4@4.12.0/dist/extensions/hint/jspanel.hint', 'jspanel-layout': 'https://cdn.jsdelivr.net/npm/jspanel4@4.12.0/dist/extensions/layout/jspanel.layout', 'jspanel-contextmenu': 'https://cdn.jsdelivr.net/npm/jspanel4@4.12.0/dist/extensions/contextmenu/jspanel.contextmenu', 'jspanel-dock': 'https://cdn.jsdelivr.net/npm/jspanel4@4.12.0/dist/extensions/dock/jspanel.dock', 'gridstack': 'https://cdn.jsdelivr.net/npm/gridstack@7.2.3/dist/gridstack-all', 'notyf': 'https://cdn.jsdelivr.net/npm/notyf@3/notyf.min'}, 'shim': {'jspanel': {'exports': 'jsPanel'}, 'gridstack': {'exports': 'GridStack'}}});\n",
       "      require([\"jspanel\"], function(jsPanel) {\n",
       "\twindow.jsPanel = jsPanel\n",
       "\ton_load()\n",
       "      })\n",
       "      require([\"jspanel-modal\"], function() {\n",
       "\ton_load()\n",
       "      })\n",
       "      require([\"jspanel-tooltip\"], function() {\n",
       "\ton_load()\n",
       "      })\n",
       "      require([\"jspanel-hint\"], function() {\n",
       "\ton_load()\n",
       "      })\n",
       "      require([\"jspanel-layout\"], function() {\n",
       "\ton_load()\n",
       "      })\n",
       "      require([\"jspanel-contextmenu\"], function() {\n",
       "\ton_load()\n",
       "      })\n",
       "      require([\"jspanel-dock\"], function() {\n",
       "\ton_load()\n",
       "      })\n",
       "      require([\"gridstack\"], function(GridStack) {\n",
       "\twindow.GridStack = GridStack\n",
       "\ton_load()\n",
       "      })\n",
       "      require([\"notyf\"], function() {\n",
       "\ton_load()\n",
       "      })\n",
       "      root._bokeh_is_loading = css_urls.length + 9;\n",
       "    } else {\n",
       "      root._bokeh_is_loading = css_urls.length + js_urls.length + js_modules.length + Object.keys(js_exports).length;\n",
       "    }\n",
       "\n",
       "    var existing_stylesheets = []\n",
       "    var links = document.getElementsByTagName('link')\n",
       "    for (var i = 0; i < links.length; i++) {\n",
       "      var link = links[i]\n",
       "      if (link.href != null) {\n",
       "\texisting_stylesheets.push(link.href)\n",
       "      }\n",
       "    }\n",
       "    for (var i = 0; i < css_urls.length; i++) {\n",
       "      var url = css_urls[i];\n",
       "      if (existing_stylesheets.indexOf(url) !== -1) {\n",
       "\ton_load()\n",
       "\tcontinue;\n",
       "      }\n",
       "      const element = document.createElement(\"link\");\n",
       "      element.onload = on_load;\n",
       "      element.onerror = on_error;\n",
       "      element.rel = \"stylesheet\";\n",
       "      element.type = \"text/css\";\n",
       "      element.href = url;\n",
       "      console.debug(\"Bokeh: injecting link tag for BokehJS stylesheet: \", url);\n",
       "      document.body.appendChild(element);\n",
       "    }    if (((window['jsPanel'] !== undefined) && (!(window['jsPanel'] instanceof HTMLElement))) || window.requirejs) {\n",
       "      var urls = ['https://cdn.holoviz.org/panel/1.3.1/dist/bundled/floatpanel/jspanel4@4.12.0/dist/jspanel.js', 'https://cdn.holoviz.org/panel/1.3.1/dist/bundled/floatpanel/jspanel4@4.12.0/dist/extensions/modal/jspanel.modal.js', 'https://cdn.holoviz.org/panel/1.3.1/dist/bundled/floatpanel/jspanel4@4.12.0/dist/extensions/tooltip/jspanel.tooltip.js', 'https://cdn.holoviz.org/panel/1.3.1/dist/bundled/floatpanel/jspanel4@4.12.0/dist/extensions/hint/jspanel.hint.js', 'https://cdn.holoviz.org/panel/1.3.1/dist/bundled/floatpanel/jspanel4@4.12.0/dist/extensions/layout/jspanel.layout.js', 'https://cdn.holoviz.org/panel/1.3.1/dist/bundled/floatpanel/jspanel4@4.12.0/dist/extensions/contextmenu/jspanel.contextmenu.js', 'https://cdn.holoviz.org/panel/1.3.1/dist/bundled/floatpanel/jspanel4@4.12.0/dist/extensions/dock/jspanel.dock.js'];\n",
       "      for (var i = 0; i < urls.length; i++) {\n",
       "        skip.push(urls[i])\n",
       "      }\n",
       "    }    if (((window['GridStack'] !== undefined) && (!(window['GridStack'] instanceof HTMLElement))) || window.requirejs) {\n",
       "      var urls = ['https://cdn.holoviz.org/panel/1.3.1/dist/bundled/gridstack/gridstack@7.2.3/dist/gridstack-all.js'];\n",
       "      for (var i = 0; i < urls.length; i++) {\n",
       "        skip.push(urls[i])\n",
       "      }\n",
       "    }    if (((window['Notyf'] !== undefined) && (!(window['Notyf'] instanceof HTMLElement))) || window.requirejs) {\n",
       "      var urls = ['https://cdn.holoviz.org/panel/1.3.1/dist/bundled/notificationarea/notyf@3/notyf.min.js'];\n",
       "      for (var i = 0; i < urls.length; i++) {\n",
       "        skip.push(urls[i])\n",
       "      }\n",
       "    }    var existing_scripts = []\n",
       "    var scripts = document.getElementsByTagName('script')\n",
       "    for (var i = 0; i < scripts.length; i++) {\n",
       "      var script = scripts[i]\n",
       "      if (script.src != null) {\n",
       "\texisting_scripts.push(script.src)\n",
       "      }\n",
       "    }\n",
       "    for (var i = 0; i < js_urls.length; i++) {\n",
       "      var url = js_urls[i];\n",
       "      if (skip.indexOf(url) !== -1 || existing_scripts.indexOf(url) !== -1) {\n",
       "\tif (!window.requirejs) {\n",
       "\t  on_load();\n",
       "\t}\n",
       "\tcontinue;\n",
       "      }\n",
       "      var element = document.createElement('script');\n",
       "      element.onload = on_load;\n",
       "      element.onerror = on_error;\n",
       "      element.async = false;\n",
       "      element.src = url;\n",
       "      console.debug(\"Bokeh: injecting script tag for BokehJS library: \", url);\n",
       "      document.head.appendChild(element);\n",
       "    }\n",
       "    for (var i = 0; i < js_modules.length; i++) {\n",
       "      var url = js_modules[i];\n",
       "      if (skip.indexOf(url) !== -1 || existing_scripts.indexOf(url) !== -1) {\n",
       "\tif (!window.requirejs) {\n",
       "\t  on_load();\n",
       "\t}\n",
       "\tcontinue;\n",
       "      }\n",
       "      var element = document.createElement('script');\n",
       "      element.onload = on_load;\n",
       "      element.onerror = on_error;\n",
       "      element.async = false;\n",
       "      element.src = url;\n",
       "      element.type = \"module\";\n",
       "      console.debug(\"Bokeh: injecting script tag for BokehJS library: \", url);\n",
       "      document.head.appendChild(element);\n",
       "    }\n",
       "    for (const name in js_exports) {\n",
       "      var url = js_exports[name];\n",
       "      if (skip.indexOf(url) >= 0 || root[name] != null) {\n",
       "\tif (!window.requirejs) {\n",
       "\t  on_load();\n",
       "\t}\n",
       "\tcontinue;\n",
       "      }\n",
       "      var element = document.createElement('script');\n",
       "      element.onerror = on_error;\n",
       "      element.async = false;\n",
       "      element.type = \"module\";\n",
       "      console.debug(\"Bokeh: injecting script tag for BokehJS library: \", url);\n",
       "      element.textContent = `\n",
       "      import ${name} from \"${url}\"\n",
       "      window.${name} = ${name}\n",
       "      window._bokeh_on_load()\n",
       "      `\n",
       "      document.head.appendChild(element);\n",
       "    }\n",
       "    if (!js_urls.length && !js_modules.length) {\n",
       "      on_load()\n",
       "    }\n",
       "  };\n",
       "\n",
       "  function inject_raw_css(css) {\n",
       "    const element = document.createElement(\"style\");\n",
       "    element.appendChild(document.createTextNode(css));\n",
       "    document.body.appendChild(element);\n",
       "  }\n",
       "\n",
       "  var js_urls = [\"https://cdn.bokeh.org/bokeh/release/bokeh-3.3.0.min.js\", \"https://cdn.bokeh.org/bokeh/release/bokeh-gl-3.3.0.min.js\", \"https://cdn.bokeh.org/bokeh/release/bokeh-widgets-3.3.0.min.js\", \"https://cdn.bokeh.org/bokeh/release/bokeh-tables-3.3.0.min.js\", \"https://cdn.holoviz.org/panel/1.3.1/dist/panel.min.js\"];\n",
       "  var js_modules = [];\n",
       "  var js_exports = {};\n",
       "  var css_urls = [];\n",
       "  var inline_js = [    function(Bokeh) {\n",
       "      Bokeh.set_log_level(\"info\");\n",
       "    },\n",
       "function(Bokeh) {} // ensure no trailing comma for IE\n",
       "  ];\n",
       "\n",
       "  function run_inline_js() {\n",
       "    if ((root.Bokeh !== undefined) || (force === true)) {\n",
       "      for (var i = 0; i < inline_js.length; i++) {\n",
       "        inline_js[i].call(root, root.Bokeh);\n",
       "      }\n",
       "      // Cache old bokeh versions\n",
       "      if (Bokeh != undefined && !reloading) {\n",
       "\tvar NewBokeh = root.Bokeh;\n",
       "\tif (Bokeh.versions === undefined) {\n",
       "\t  Bokeh.versions = new Map();\n",
       "\t}\n",
       "\tif (NewBokeh.version !== Bokeh.version) {\n",
       "\t  Bokeh.versions.set(NewBokeh.version, NewBokeh)\n",
       "\t}\n",
       "\troot.Bokeh = Bokeh;\n",
       "      }} else if (Date.now() < root._bokeh_timeout) {\n",
       "      setTimeout(run_inline_js, 100);\n",
       "    } else if (!root._bokeh_failed_load) {\n",
       "      console.log(\"Bokeh: BokehJS failed to load within specified timeout.\");\n",
       "      root._bokeh_failed_load = true;\n",
       "    }\n",
       "    root._bokeh_is_initializing = false\n",
       "  }\n",
       "\n",
       "  function load_or_wait() {\n",
       "    // Implement a backoff loop that tries to ensure we do not load multiple\n",
       "    // versions of Bokeh and its dependencies at the same time.\n",
       "    // In recent versions we use the root._bokeh_is_initializing flag\n",
       "    // to determine whether there is an ongoing attempt to initialize\n",
       "    // bokeh, however for backward compatibility we also try to ensure\n",
       "    // that we do not start loading a newer (Panel>=1.0 and Bokeh>3) version\n",
       "    // before older versions are fully initialized.\n",
       "    if (root._bokeh_is_initializing && Date.now() > root._bokeh_timeout) {\n",
       "      root._bokeh_is_initializing = false;\n",
       "      root._bokeh_onload_callbacks = undefined;\n",
       "      console.log(\"Bokeh: BokehJS was loaded multiple times but one version failed to initialize.\");\n",
       "      load_or_wait();\n",
       "    } else if (root._bokeh_is_initializing || (typeof root._bokeh_is_initializing === \"undefined\" && root._bokeh_onload_callbacks !== undefined)) {\n",
       "      setTimeout(load_or_wait, 100);\n",
       "    } else {\n",
       "      Bokeh = root.Bokeh;\n",
       "      bokeh_loaded = Bokeh != null && (Bokeh.version === py_version || (Bokeh.versions !== undefined && Bokeh.versions.has(py_version)));\n",
       "      root._bokeh_is_initializing = true\n",
       "      root._bokeh_onload_callbacks = []\n",
       "      if (!reloading && (!bokeh_loaded || is_dev)) {\n",
       "\troot.Bokeh = undefined;\n",
       "      }\n",
       "      load_libs(css_urls, js_urls, js_modules, js_exports, function() {\n",
       "\tconsole.debug(\"Bokeh: BokehJS plotting callback run at\", now());\n",
       "\trun_inline_js();\n",
       "      });\n",
       "    }\n",
       "  }\n",
       "  // Give older versions of the autoload script a head-start to ensure\n",
       "  // they initialize before we start loading newer version.\n",
       "  setTimeout(load_or_wait, 100)\n",
       "}(window));"
      ],
      "application/vnd.holoviews_load.v0+json": "(function(root) {\n  function now() {\n    return new Date();\n  }\n\n  var force = true;\n  var py_version = '3.3.0'.replace('rc', '-rc.').replace('.dev', '-dev.');\n  var is_dev = py_version.indexOf(\"+\") !== -1 || py_version.indexOf(\"-\") !== -1;\n  var reloading = false;\n  var Bokeh = root.Bokeh;\n  var bokeh_loaded = Bokeh != null && (Bokeh.version === py_version || (Bokeh.versions !== undefined && Bokeh.versions.has(py_version)));\n\n  if (typeof (root._bokeh_timeout) === \"undefined\" || force) {\n    root._bokeh_timeout = Date.now() + 5000;\n    root._bokeh_failed_load = false;\n  }\n\n  function run_callbacks() {\n    try {\n      root._bokeh_onload_callbacks.forEach(function(callback) {\n        if (callback != null)\n          callback();\n      });\n    } finally {\n      delete root._bokeh_onload_callbacks;\n    }\n    console.debug(\"Bokeh: all callbacks have finished\");\n  }\n\n  function load_libs(css_urls, js_urls, js_modules, js_exports, callback) {\n    if (css_urls == null) css_urls = [];\n    if (js_urls == null) js_urls = [];\n    if (js_modules == null) js_modules = [];\n    if (js_exports == null) js_exports = {};\n\n    root._bokeh_onload_callbacks.push(callback);\n\n    if (root._bokeh_is_loading > 0) {\n      console.debug(\"Bokeh: BokehJS is being loaded, scheduling callback at\", now());\n      return null;\n    }\n    if (js_urls.length === 0 && js_modules.length === 0 && Object.keys(js_exports).length === 0) {\n      run_callbacks();\n      return null;\n    }\n    if (!reloading) {\n      console.debug(\"Bokeh: BokehJS not loaded, scheduling load and callback at\", now());\n    }\n\n    function on_load() {\n      root._bokeh_is_loading--;\n      if (root._bokeh_is_loading === 0) {\n        console.debug(\"Bokeh: all BokehJS libraries/stylesheets loaded\");\n        run_callbacks()\n      }\n    }\n    window._bokeh_on_load = on_load\n\n    function on_error() {\n      console.error(\"failed to load \" + url);\n    }\n\n    var skip = [];\n    if (window.requirejs) {\n      window.requirejs.config({'packages': {}, 'paths': {'jspanel': 'https://cdn.jsdelivr.net/npm/jspanel4@4.12.0/dist/jspanel', 'jspanel-modal': 'https://cdn.jsdelivr.net/npm/jspanel4@4.12.0/dist/extensions/modal/jspanel.modal', 'jspanel-tooltip': 'https://cdn.jsdelivr.net/npm/jspanel4@4.12.0/dist/extensions/tooltip/jspanel.tooltip', 'jspanel-hint': 'https://cdn.jsdelivr.net/npm/jspanel4@4.12.0/dist/extensions/hint/jspanel.hint', 'jspanel-layout': 'https://cdn.jsdelivr.net/npm/jspanel4@4.12.0/dist/extensions/layout/jspanel.layout', 'jspanel-contextmenu': 'https://cdn.jsdelivr.net/npm/jspanel4@4.12.0/dist/extensions/contextmenu/jspanel.contextmenu', 'jspanel-dock': 'https://cdn.jsdelivr.net/npm/jspanel4@4.12.0/dist/extensions/dock/jspanel.dock', 'gridstack': 'https://cdn.jsdelivr.net/npm/gridstack@7.2.3/dist/gridstack-all', 'notyf': 'https://cdn.jsdelivr.net/npm/notyf@3/notyf.min'}, 'shim': {'jspanel': {'exports': 'jsPanel'}, 'gridstack': {'exports': 'GridStack'}}});\n      require([\"jspanel\"], function(jsPanel) {\n\twindow.jsPanel = jsPanel\n\ton_load()\n      })\n      require([\"jspanel-modal\"], function() {\n\ton_load()\n      })\n      require([\"jspanel-tooltip\"], function() {\n\ton_load()\n      })\n      require([\"jspanel-hint\"], function() {\n\ton_load()\n      })\n      require([\"jspanel-layout\"], function() {\n\ton_load()\n      })\n      require([\"jspanel-contextmenu\"], function() {\n\ton_load()\n      })\n      require([\"jspanel-dock\"], function() {\n\ton_load()\n      })\n      require([\"gridstack\"], function(GridStack) {\n\twindow.GridStack = GridStack\n\ton_load()\n      })\n      require([\"notyf\"], function() {\n\ton_load()\n      })\n      root._bokeh_is_loading = css_urls.length + 9;\n    } else {\n      root._bokeh_is_loading = css_urls.length + js_urls.length + js_modules.length + Object.keys(js_exports).length;\n    }\n\n    var existing_stylesheets = []\n    var links = document.getElementsByTagName('link')\n    for (var i = 0; i < links.length; i++) {\n      var link = links[i]\n      if (link.href != null) {\n\texisting_stylesheets.push(link.href)\n      }\n    }\n    for (var i = 0; i < css_urls.length; i++) {\n      var url = css_urls[i];\n      if (existing_stylesheets.indexOf(url) !== -1) {\n\ton_load()\n\tcontinue;\n      }\n      const element = document.createElement(\"link\");\n      element.onload = on_load;\n      element.onerror = on_error;\n      element.rel = \"stylesheet\";\n      element.type = \"text/css\";\n      element.href = url;\n      console.debug(\"Bokeh: injecting link tag for BokehJS stylesheet: \", url);\n      document.body.appendChild(element);\n    }    if (((window['jsPanel'] !== undefined) && (!(window['jsPanel'] instanceof HTMLElement))) || window.requirejs) {\n      var urls = ['https://cdn.holoviz.org/panel/1.3.1/dist/bundled/floatpanel/jspanel4@4.12.0/dist/jspanel.js', 'https://cdn.holoviz.org/panel/1.3.1/dist/bundled/floatpanel/jspanel4@4.12.0/dist/extensions/modal/jspanel.modal.js', 'https://cdn.holoviz.org/panel/1.3.1/dist/bundled/floatpanel/jspanel4@4.12.0/dist/extensions/tooltip/jspanel.tooltip.js', 'https://cdn.holoviz.org/panel/1.3.1/dist/bundled/floatpanel/jspanel4@4.12.0/dist/extensions/hint/jspanel.hint.js', 'https://cdn.holoviz.org/panel/1.3.1/dist/bundled/floatpanel/jspanel4@4.12.0/dist/extensions/layout/jspanel.layout.js', 'https://cdn.holoviz.org/panel/1.3.1/dist/bundled/floatpanel/jspanel4@4.12.0/dist/extensions/contextmenu/jspanel.contextmenu.js', 'https://cdn.holoviz.org/panel/1.3.1/dist/bundled/floatpanel/jspanel4@4.12.0/dist/extensions/dock/jspanel.dock.js'];\n      for (var i = 0; i < urls.length; i++) {\n        skip.push(urls[i])\n      }\n    }    if (((window['GridStack'] !== undefined) && (!(window['GridStack'] instanceof HTMLElement))) || window.requirejs) {\n      var urls = ['https://cdn.holoviz.org/panel/1.3.1/dist/bundled/gridstack/gridstack@7.2.3/dist/gridstack-all.js'];\n      for (var i = 0; i < urls.length; i++) {\n        skip.push(urls[i])\n      }\n    }    if (((window['Notyf'] !== undefined) && (!(window['Notyf'] instanceof HTMLElement))) || window.requirejs) {\n      var urls = ['https://cdn.holoviz.org/panel/1.3.1/dist/bundled/notificationarea/notyf@3/notyf.min.js'];\n      for (var i = 0; i < urls.length; i++) {\n        skip.push(urls[i])\n      }\n    }    var existing_scripts = []\n    var scripts = document.getElementsByTagName('script')\n    for (var i = 0; i < scripts.length; i++) {\n      var script = scripts[i]\n      if (script.src != null) {\n\texisting_scripts.push(script.src)\n      }\n    }\n    for (var i = 0; i < js_urls.length; i++) {\n      var url = js_urls[i];\n      if (skip.indexOf(url) !== -1 || existing_scripts.indexOf(url) !== -1) {\n\tif (!window.requirejs) {\n\t  on_load();\n\t}\n\tcontinue;\n      }\n      var element = document.createElement('script');\n      element.onload = on_load;\n      element.onerror = on_error;\n      element.async = false;\n      element.src = url;\n      console.debug(\"Bokeh: injecting script tag for BokehJS library: \", url);\n      document.head.appendChild(element);\n    }\n    for (var i = 0; i < js_modules.length; i++) {\n      var url = js_modules[i];\n      if (skip.indexOf(url) !== -1 || existing_scripts.indexOf(url) !== -1) {\n\tif (!window.requirejs) {\n\t  on_load();\n\t}\n\tcontinue;\n      }\n      var element = document.createElement('script');\n      element.onload = on_load;\n      element.onerror = on_error;\n      element.async = false;\n      element.src = url;\n      element.type = \"module\";\n      console.debug(\"Bokeh: injecting script tag for BokehJS library: \", url);\n      document.head.appendChild(element);\n    }\n    for (const name in js_exports) {\n      var url = js_exports[name];\n      if (skip.indexOf(url) >= 0 || root[name] != null) {\n\tif (!window.requirejs) {\n\t  on_load();\n\t}\n\tcontinue;\n      }\n      var element = document.createElement('script');\n      element.onerror = on_error;\n      element.async = false;\n      element.type = \"module\";\n      console.debug(\"Bokeh: injecting script tag for BokehJS library: \", url);\n      element.textContent = `\n      import ${name} from \"${url}\"\n      window.${name} = ${name}\n      window._bokeh_on_load()\n      `\n      document.head.appendChild(element);\n    }\n    if (!js_urls.length && !js_modules.length) {\n      on_load()\n    }\n  };\n\n  function inject_raw_css(css) {\n    const element = document.createElement(\"style\");\n    element.appendChild(document.createTextNode(css));\n    document.body.appendChild(element);\n  }\n\n  var js_urls = [\"https://cdn.bokeh.org/bokeh/release/bokeh-3.3.0.min.js\", \"https://cdn.bokeh.org/bokeh/release/bokeh-gl-3.3.0.min.js\", \"https://cdn.bokeh.org/bokeh/release/bokeh-widgets-3.3.0.min.js\", \"https://cdn.bokeh.org/bokeh/release/bokeh-tables-3.3.0.min.js\", \"https://cdn.holoviz.org/panel/1.3.1/dist/panel.min.js\"];\n  var js_modules = [];\n  var js_exports = {};\n  var css_urls = [];\n  var inline_js = [    function(Bokeh) {\n      Bokeh.set_log_level(\"info\");\n    },\nfunction(Bokeh) {} // ensure no trailing comma for IE\n  ];\n\n  function run_inline_js() {\n    if ((root.Bokeh !== undefined) || (force === true)) {\n      for (var i = 0; i < inline_js.length; i++) {\n        inline_js[i].call(root, root.Bokeh);\n      }\n      // Cache old bokeh versions\n      if (Bokeh != undefined && !reloading) {\n\tvar NewBokeh = root.Bokeh;\n\tif (Bokeh.versions === undefined) {\n\t  Bokeh.versions = new Map();\n\t}\n\tif (NewBokeh.version !== Bokeh.version) {\n\t  Bokeh.versions.set(NewBokeh.version, NewBokeh)\n\t}\n\troot.Bokeh = Bokeh;\n      }} else if (Date.now() < root._bokeh_timeout) {\n      setTimeout(run_inline_js, 100);\n    } else if (!root._bokeh_failed_load) {\n      console.log(\"Bokeh: BokehJS failed to load within specified timeout.\");\n      root._bokeh_failed_load = true;\n    }\n    root._bokeh_is_initializing = false\n  }\n\n  function load_or_wait() {\n    // Implement a backoff loop that tries to ensure we do not load multiple\n    // versions of Bokeh and its dependencies at the same time.\n    // In recent versions we use the root._bokeh_is_initializing flag\n    // to determine whether there is an ongoing attempt to initialize\n    // bokeh, however for backward compatibility we also try to ensure\n    // that we do not start loading a newer (Panel>=1.0 and Bokeh>3) version\n    // before older versions are fully initialized.\n    if (root._bokeh_is_initializing && Date.now() > root._bokeh_timeout) {\n      root._bokeh_is_initializing = false;\n      root._bokeh_onload_callbacks = undefined;\n      console.log(\"Bokeh: BokehJS was loaded multiple times but one version failed to initialize.\");\n      load_or_wait();\n    } else if (root._bokeh_is_initializing || (typeof root._bokeh_is_initializing === \"undefined\" && root._bokeh_onload_callbacks !== undefined)) {\n      setTimeout(load_or_wait, 100);\n    } else {\n      Bokeh = root.Bokeh;\n      bokeh_loaded = Bokeh != null && (Bokeh.version === py_version || (Bokeh.versions !== undefined && Bokeh.versions.has(py_version)));\n      root._bokeh_is_initializing = true\n      root._bokeh_onload_callbacks = []\n      if (!reloading && (!bokeh_loaded || is_dev)) {\n\troot.Bokeh = undefined;\n      }\n      load_libs(css_urls, js_urls, js_modules, js_exports, function() {\n\tconsole.debug(\"Bokeh: BokehJS plotting callback run at\", now());\n\trun_inline_js();\n      });\n    }\n  }\n  // Give older versions of the autoload script a head-start to ensure\n  // they initialize before we start loading newer version.\n  setTimeout(load_or_wait, 100)\n}(window));"
     },
     "metadata": {},
     "output_type": "display_data"
    },
    {
     "data": {
      "application/javascript": [
       "\n",
       "if ((window.PyViz === undefined) || (window.PyViz instanceof HTMLElement)) {\n",
       "  window.PyViz = {comms: {}, comm_status:{}, kernels:{}, receivers: {}, plot_index: []}\n",
       "}\n",
       "\n",
       "\n",
       "    function JupyterCommManager() {\n",
       "    }\n",
       "\n",
       "    JupyterCommManager.prototype.register_target = function(plot_id, comm_id, msg_handler) {\n",
       "      if (window.comm_manager || ((window.Jupyter !== undefined) && (Jupyter.notebook.kernel != null))) {\n",
       "        var comm_manager = window.comm_manager || Jupyter.notebook.kernel.comm_manager;\n",
       "        comm_manager.register_target(comm_id, function(comm) {\n",
       "          comm.on_msg(msg_handler);\n",
       "        });\n",
       "      } else if ((plot_id in window.PyViz.kernels) && (window.PyViz.kernels[plot_id])) {\n",
       "        window.PyViz.kernels[plot_id].registerCommTarget(comm_id, function(comm) {\n",
       "          comm.onMsg = msg_handler;\n",
       "        });\n",
       "      } else if (typeof google != 'undefined' && google.colab.kernel != null) {\n",
       "        google.colab.kernel.comms.registerTarget(comm_id, (comm) => {\n",
       "          var messages = comm.messages[Symbol.asyncIterator]();\n",
       "          function processIteratorResult(result) {\n",
       "            var message = result.value;\n",
       "            console.log(message)\n",
       "            var content = {data: message.data, comm_id};\n",
       "            var buffers = []\n",
       "            for (var buffer of message.buffers || []) {\n",
       "              buffers.push(new DataView(buffer))\n",
       "            }\n",
       "            var metadata = message.metadata || {};\n",
       "            var msg = {content, buffers, metadata}\n",
       "            msg_handler(msg);\n",
       "            return messages.next().then(processIteratorResult);\n",
       "          }\n",
       "          return messages.next().then(processIteratorResult);\n",
       "        })\n",
       "      }\n",
       "    }\n",
       "\n",
       "    JupyterCommManager.prototype.get_client_comm = function(plot_id, comm_id, msg_handler) {\n",
       "      if (comm_id in window.PyViz.comms) {\n",
       "        return window.PyViz.comms[comm_id];\n",
       "      } else if (window.comm_manager || ((window.Jupyter !== undefined) && (Jupyter.notebook.kernel != null))) {\n",
       "        var comm_manager = window.comm_manager || Jupyter.notebook.kernel.comm_manager;\n",
       "        var comm = comm_manager.new_comm(comm_id, {}, {}, {}, comm_id);\n",
       "        if (msg_handler) {\n",
       "          comm.on_msg(msg_handler);\n",
       "        }\n",
       "      } else if ((plot_id in window.PyViz.kernels) && (window.PyViz.kernels[plot_id])) {\n",
       "        var comm = window.PyViz.kernels[plot_id].connectToComm(comm_id);\n",
       "        comm.open();\n",
       "        if (msg_handler) {\n",
       "          comm.onMsg = msg_handler;\n",
       "        }\n",
       "      } else if (typeof google != 'undefined' && google.colab.kernel != null) {\n",
       "        var comm_promise = google.colab.kernel.comms.open(comm_id)\n",
       "        comm_promise.then((comm) => {\n",
       "          window.PyViz.comms[comm_id] = comm;\n",
       "          if (msg_handler) {\n",
       "            var messages = comm.messages[Symbol.asyncIterator]();\n",
       "            function processIteratorResult(result) {\n",
       "              var message = result.value;\n",
       "              var content = {data: message.data};\n",
       "              var metadata = message.metadata || {comm_id};\n",
       "              var msg = {content, metadata}\n",
       "              msg_handler(msg);\n",
       "              return messages.next().then(processIteratorResult);\n",
       "            }\n",
       "            return messages.next().then(processIteratorResult);\n",
       "          }\n",
       "        }) \n",
       "        var sendClosure = (data, metadata, buffers, disposeOnDone) => {\n",
       "          return comm_promise.then((comm) => {\n",
       "            comm.send(data, metadata, buffers, disposeOnDone);\n",
       "          });\n",
       "        };\n",
       "        var comm = {\n",
       "          send: sendClosure\n",
       "        };\n",
       "      }\n",
       "      window.PyViz.comms[comm_id] = comm;\n",
       "      return comm;\n",
       "    }\n",
       "    window.PyViz.comm_manager = new JupyterCommManager();\n",
       "    \n",
       "\n",
       "\n",
       "var JS_MIME_TYPE = 'application/javascript';\n",
       "var HTML_MIME_TYPE = 'text/html';\n",
       "var EXEC_MIME_TYPE = 'application/vnd.holoviews_exec.v0+json';\n",
       "var CLASS_NAME = 'output';\n",
       "\n",
       "/**\n",
       " * Render data to the DOM node\n",
       " */\n",
       "function render(props, node) {\n",
       "  var div = document.createElement(\"div\");\n",
       "  var script = document.createElement(\"script\");\n",
       "  node.appendChild(div);\n",
       "  node.appendChild(script);\n",
       "}\n",
       "\n",
       "/**\n",
       " * Handle when a new output is added\n",
       " */\n",
       "function handle_add_output(event, handle) {\n",
       "  var output_area = handle.output_area;\n",
       "  var output = handle.output;\n",
       "  if ((output.data == undefined) || (!output.data.hasOwnProperty(EXEC_MIME_TYPE))) {\n",
       "    return\n",
       "  }\n",
       "  var id = output.metadata[EXEC_MIME_TYPE][\"id\"];\n",
       "  var toinsert = output_area.element.find(\".\" + CLASS_NAME.split(' ')[0]);\n",
       "  if (id !== undefined) {\n",
       "    var nchildren = toinsert.length;\n",
       "    var html_node = toinsert[nchildren-1].children[0];\n",
       "    html_node.innerHTML = output.data[HTML_MIME_TYPE];\n",
       "    var scripts = [];\n",
       "    var nodelist = html_node.querySelectorAll(\"script\");\n",
       "    for (var i in nodelist) {\n",
       "      if (nodelist.hasOwnProperty(i)) {\n",
       "        scripts.push(nodelist[i])\n",
       "      }\n",
       "    }\n",
       "\n",
       "    scripts.forEach( function (oldScript) {\n",
       "      var newScript = document.createElement(\"script\");\n",
       "      var attrs = [];\n",
       "      var nodemap = oldScript.attributes;\n",
       "      for (var j in nodemap) {\n",
       "        if (nodemap.hasOwnProperty(j)) {\n",
       "          attrs.push(nodemap[j])\n",
       "        }\n",
       "      }\n",
       "      attrs.forEach(function(attr) { newScript.setAttribute(attr.name, attr.value) });\n",
       "      newScript.appendChild(document.createTextNode(oldScript.innerHTML));\n",
       "      oldScript.parentNode.replaceChild(newScript, oldScript);\n",
       "    });\n",
       "    if (JS_MIME_TYPE in output.data) {\n",
       "      toinsert[nchildren-1].children[1].textContent = output.data[JS_MIME_TYPE];\n",
       "    }\n",
       "    output_area._hv_plot_id = id;\n",
       "    if ((window.Bokeh !== undefined) && (id in Bokeh.index)) {\n",
       "      window.PyViz.plot_index[id] = Bokeh.index[id];\n",
       "    } else {\n",
       "      window.PyViz.plot_index[id] = null;\n",
       "    }\n",
       "  } else if (output.metadata[EXEC_MIME_TYPE][\"server_id\"] !== undefined) {\n",
       "    var bk_div = document.createElement(\"div\");\n",
       "    bk_div.innerHTML = output.data[HTML_MIME_TYPE];\n",
       "    var script_attrs = bk_div.children[0].attributes;\n",
       "    for (var i = 0; i < script_attrs.length; i++) {\n",
       "      toinsert[toinsert.length - 1].childNodes[1].setAttribute(script_attrs[i].name, script_attrs[i].value);\n",
       "    }\n",
       "    // store reference to server id on output_area\n",
       "    output_area._bokeh_server_id = output.metadata[EXEC_MIME_TYPE][\"server_id\"];\n",
       "  }\n",
       "}\n",
       "\n",
       "/**\n",
       " * Handle when an output is cleared or removed\n",
       " */\n",
       "function handle_clear_output(event, handle) {\n",
       "  var id = handle.cell.output_area._hv_plot_id;\n",
       "  var server_id = handle.cell.output_area._bokeh_server_id;\n",
       "  if (((id === undefined) || !(id in PyViz.plot_index)) && (server_id !== undefined)) { return; }\n",
       "  var comm = window.PyViz.comm_manager.get_client_comm(\"hv-extension-comm\", \"hv-extension-comm\", function () {});\n",
       "  if (server_id !== null) {\n",
       "    comm.send({event_type: 'server_delete', 'id': server_id});\n",
       "    return;\n",
       "  } else if (comm !== null) {\n",
       "    comm.send({event_type: 'delete', 'id': id});\n",
       "  }\n",
       "  delete PyViz.plot_index[id];\n",
       "  if ((window.Bokeh !== undefined) & (id in window.Bokeh.index)) {\n",
       "    var doc = window.Bokeh.index[id].model.document\n",
       "    doc.clear();\n",
       "    const i = window.Bokeh.documents.indexOf(doc);\n",
       "    if (i > -1) {\n",
       "      window.Bokeh.documents.splice(i, 1);\n",
       "    }\n",
       "  }\n",
       "}\n",
       "\n",
       "/**\n",
       " * Handle kernel restart event\n",
       " */\n",
       "function handle_kernel_cleanup(event, handle) {\n",
       "  delete PyViz.comms[\"hv-extension-comm\"];\n",
       "  window.PyViz.plot_index = {}\n",
       "}\n",
       "\n",
       "/**\n",
       " * Handle update_display_data messages\n",
       " */\n",
       "function handle_update_output(event, handle) {\n",
       "  handle_clear_output(event, {cell: {output_area: handle.output_area}})\n",
       "  handle_add_output(event, handle)\n",
       "}\n",
       "\n",
       "function register_renderer(events, OutputArea) {\n",
       "  function append_mime(data, metadata, element) {\n",
       "    // create a DOM node to render to\n",
       "    var toinsert = this.create_output_subarea(\n",
       "    metadata,\n",
       "    CLASS_NAME,\n",
       "    EXEC_MIME_TYPE\n",
       "    );\n",
       "    this.keyboard_manager.register_events(toinsert);\n",
       "    // Render to node\n",
       "    var props = {data: data, metadata: metadata[EXEC_MIME_TYPE]};\n",
       "    render(props, toinsert[0]);\n",
       "    element.append(toinsert);\n",
       "    return toinsert\n",
       "  }\n",
       "\n",
       "  events.on('output_added.OutputArea', handle_add_output);\n",
       "  events.on('output_updated.OutputArea', handle_update_output);\n",
       "  events.on('clear_output.CodeCell', handle_clear_output);\n",
       "  events.on('delete.Cell', handle_clear_output);\n",
       "  events.on('kernel_ready.Kernel', handle_kernel_cleanup);\n",
       "\n",
       "  OutputArea.prototype.register_mime_type(EXEC_MIME_TYPE, append_mime, {\n",
       "    safe: true,\n",
       "    index: 0\n",
       "  });\n",
       "}\n",
       "\n",
       "if (window.Jupyter !== undefined) {\n",
       "  try {\n",
       "    var events = require('base/js/events');\n",
       "    var OutputArea = require('notebook/js/outputarea').OutputArea;\n",
       "    if (OutputArea.prototype.mime_types().indexOf(EXEC_MIME_TYPE) == -1) {\n",
       "      register_renderer(events, OutputArea);\n",
       "    }\n",
       "  } catch(err) {\n",
       "  }\n",
       "}\n"
      ],
      "application/vnd.holoviews_load.v0+json": "\nif ((window.PyViz === undefined) || (window.PyViz instanceof HTMLElement)) {\n  window.PyViz = {comms: {}, comm_status:{}, kernels:{}, receivers: {}, plot_index: []}\n}\n\n\n    function JupyterCommManager() {\n    }\n\n    JupyterCommManager.prototype.register_target = function(plot_id, comm_id, msg_handler) {\n      if (window.comm_manager || ((window.Jupyter !== undefined) && (Jupyter.notebook.kernel != null))) {\n        var comm_manager = window.comm_manager || Jupyter.notebook.kernel.comm_manager;\n        comm_manager.register_target(comm_id, function(comm) {\n          comm.on_msg(msg_handler);\n        });\n      } else if ((plot_id in window.PyViz.kernels) && (window.PyViz.kernels[plot_id])) {\n        window.PyViz.kernels[plot_id].registerCommTarget(comm_id, function(comm) {\n          comm.onMsg = msg_handler;\n        });\n      } else if (typeof google != 'undefined' && google.colab.kernel != null) {\n        google.colab.kernel.comms.registerTarget(comm_id, (comm) => {\n          var messages = comm.messages[Symbol.asyncIterator]();\n          function processIteratorResult(result) {\n            var message = result.value;\n            console.log(message)\n            var content = {data: message.data, comm_id};\n            var buffers = []\n            for (var buffer of message.buffers || []) {\n              buffers.push(new DataView(buffer))\n            }\n            var metadata = message.metadata || {};\n            var msg = {content, buffers, metadata}\n            msg_handler(msg);\n            return messages.next().then(processIteratorResult);\n          }\n          return messages.next().then(processIteratorResult);\n        })\n      }\n    }\n\n    JupyterCommManager.prototype.get_client_comm = function(plot_id, comm_id, msg_handler) {\n      if (comm_id in window.PyViz.comms) {\n        return window.PyViz.comms[comm_id];\n      } else if (window.comm_manager || ((window.Jupyter !== undefined) && (Jupyter.notebook.kernel != null))) {\n        var comm_manager = window.comm_manager || Jupyter.notebook.kernel.comm_manager;\n        var comm = comm_manager.new_comm(comm_id, {}, {}, {}, comm_id);\n        if (msg_handler) {\n          comm.on_msg(msg_handler);\n        }\n      } else if ((plot_id in window.PyViz.kernels) && (window.PyViz.kernels[plot_id])) {\n        var comm = window.PyViz.kernels[plot_id].connectToComm(comm_id);\n        comm.open();\n        if (msg_handler) {\n          comm.onMsg = msg_handler;\n        }\n      } else if (typeof google != 'undefined' && google.colab.kernel != null) {\n        var comm_promise = google.colab.kernel.comms.open(comm_id)\n        comm_promise.then((comm) => {\n          window.PyViz.comms[comm_id] = comm;\n          if (msg_handler) {\n            var messages = comm.messages[Symbol.asyncIterator]();\n            function processIteratorResult(result) {\n              var message = result.value;\n              var content = {data: message.data};\n              var metadata = message.metadata || {comm_id};\n              var msg = {content, metadata}\n              msg_handler(msg);\n              return messages.next().then(processIteratorResult);\n            }\n            return messages.next().then(processIteratorResult);\n          }\n        }) \n        var sendClosure = (data, metadata, buffers, disposeOnDone) => {\n          return comm_promise.then((comm) => {\n            comm.send(data, metadata, buffers, disposeOnDone);\n          });\n        };\n        var comm = {\n          send: sendClosure\n        };\n      }\n      window.PyViz.comms[comm_id] = comm;\n      return comm;\n    }\n    window.PyViz.comm_manager = new JupyterCommManager();\n    \n\n\nvar JS_MIME_TYPE = 'application/javascript';\nvar HTML_MIME_TYPE = 'text/html';\nvar EXEC_MIME_TYPE = 'application/vnd.holoviews_exec.v0+json';\nvar CLASS_NAME = 'output';\n\n/**\n * Render data to the DOM node\n */\nfunction render(props, node) {\n  var div = document.createElement(\"div\");\n  var script = document.createElement(\"script\");\n  node.appendChild(div);\n  node.appendChild(script);\n}\n\n/**\n * Handle when a new output is added\n */\nfunction handle_add_output(event, handle) {\n  var output_area = handle.output_area;\n  var output = handle.output;\n  if ((output.data == undefined) || (!output.data.hasOwnProperty(EXEC_MIME_TYPE))) {\n    return\n  }\n  var id = output.metadata[EXEC_MIME_TYPE][\"id\"];\n  var toinsert = output_area.element.find(\".\" + CLASS_NAME.split(' ')[0]);\n  if (id !== undefined) {\n    var nchildren = toinsert.length;\n    var html_node = toinsert[nchildren-1].children[0];\n    html_node.innerHTML = output.data[HTML_MIME_TYPE];\n    var scripts = [];\n    var nodelist = html_node.querySelectorAll(\"script\");\n    for (var i in nodelist) {\n      if (nodelist.hasOwnProperty(i)) {\n        scripts.push(nodelist[i])\n      }\n    }\n\n    scripts.forEach( function (oldScript) {\n      var newScript = document.createElement(\"script\");\n      var attrs = [];\n      var nodemap = oldScript.attributes;\n      for (var j in nodemap) {\n        if (nodemap.hasOwnProperty(j)) {\n          attrs.push(nodemap[j])\n        }\n      }\n      attrs.forEach(function(attr) { newScript.setAttribute(attr.name, attr.value) });\n      newScript.appendChild(document.createTextNode(oldScript.innerHTML));\n      oldScript.parentNode.replaceChild(newScript, oldScript);\n    });\n    if (JS_MIME_TYPE in output.data) {\n      toinsert[nchildren-1].children[1].textContent = output.data[JS_MIME_TYPE];\n    }\n    output_area._hv_plot_id = id;\n    if ((window.Bokeh !== undefined) && (id in Bokeh.index)) {\n      window.PyViz.plot_index[id] = Bokeh.index[id];\n    } else {\n      window.PyViz.plot_index[id] = null;\n    }\n  } else if (output.metadata[EXEC_MIME_TYPE][\"server_id\"] !== undefined) {\n    var bk_div = document.createElement(\"div\");\n    bk_div.innerHTML = output.data[HTML_MIME_TYPE];\n    var script_attrs = bk_div.children[0].attributes;\n    for (var i = 0; i < script_attrs.length; i++) {\n      toinsert[toinsert.length - 1].childNodes[1].setAttribute(script_attrs[i].name, script_attrs[i].value);\n    }\n    // store reference to server id on output_area\n    output_area._bokeh_server_id = output.metadata[EXEC_MIME_TYPE][\"server_id\"];\n  }\n}\n\n/**\n * Handle when an output is cleared or removed\n */\nfunction handle_clear_output(event, handle) {\n  var id = handle.cell.output_area._hv_plot_id;\n  var server_id = handle.cell.output_area._bokeh_server_id;\n  if (((id === undefined) || !(id in PyViz.plot_index)) && (server_id !== undefined)) { return; }\n  var comm = window.PyViz.comm_manager.get_client_comm(\"hv-extension-comm\", \"hv-extension-comm\", function () {});\n  if (server_id !== null) {\n    comm.send({event_type: 'server_delete', 'id': server_id});\n    return;\n  } else if (comm !== null) {\n    comm.send({event_type: 'delete', 'id': id});\n  }\n  delete PyViz.plot_index[id];\n  if ((window.Bokeh !== undefined) & (id in window.Bokeh.index)) {\n    var doc = window.Bokeh.index[id].model.document\n    doc.clear();\n    const i = window.Bokeh.documents.indexOf(doc);\n    if (i > -1) {\n      window.Bokeh.documents.splice(i, 1);\n    }\n  }\n}\n\n/**\n * Handle kernel restart event\n */\nfunction handle_kernel_cleanup(event, handle) {\n  delete PyViz.comms[\"hv-extension-comm\"];\n  window.PyViz.plot_index = {}\n}\n\n/**\n * Handle update_display_data messages\n */\nfunction handle_update_output(event, handle) {\n  handle_clear_output(event, {cell: {output_area: handle.output_area}})\n  handle_add_output(event, handle)\n}\n\nfunction register_renderer(events, OutputArea) {\n  function append_mime(data, metadata, element) {\n    // create a DOM node to render to\n    var toinsert = this.create_output_subarea(\n    metadata,\n    CLASS_NAME,\n    EXEC_MIME_TYPE\n    );\n    this.keyboard_manager.register_events(toinsert);\n    // Render to node\n    var props = {data: data, metadata: metadata[EXEC_MIME_TYPE]};\n    render(props, toinsert[0]);\n    element.append(toinsert);\n    return toinsert\n  }\n\n  events.on('output_added.OutputArea', handle_add_output);\n  events.on('output_updated.OutputArea', handle_update_output);\n  events.on('clear_output.CodeCell', handle_clear_output);\n  events.on('delete.Cell', handle_clear_output);\n  events.on('kernel_ready.Kernel', handle_kernel_cleanup);\n\n  OutputArea.prototype.register_mime_type(EXEC_MIME_TYPE, append_mime, {\n    safe: true,\n    index: 0\n  });\n}\n\nif (window.Jupyter !== undefined) {\n  try {\n    var events = require('base/js/events');\n    var OutputArea = require('notebook/js/outputarea').OutputArea;\n    if (OutputArea.prototype.mime_types().indexOf(EXEC_MIME_TYPE) == -1) {\n      register_renderer(events, OutputArea);\n    }\n  } catch(err) {\n  }\n}\n"
     },
     "metadata": {},
     "output_type": "display_data"
    },
    {
     "data": {
      "text/html": [
       "<style>*[data-root-id],\n",
       "*[data-root-id] > * {\n",
       "  box-sizing: border-box;\n",
       "  font-family: var(--jp-ui-font-family);\n",
       "  font-size: var(--jp-ui-font-size1);\n",
       "  color: var(--vscode-editor-foreground, var(--jp-ui-font-color1));\n",
       "}\n",
       "\n",
       "/* Override VSCode background color */\n",
       ".cell-output-ipywidget-background:has(\n",
       "    > .cell-output-ipywidget-background > .lm-Widget > *[data-root-id]\n",
       "  ),\n",
       ".cell-output-ipywidget-background:has(> .lm-Widget > *[data-root-id]) {\n",
       "  background-color: transparent !important;\n",
       "}\n",
       "</style>"
      ]
     },
     "metadata": {},
     "output_type": "display_data"
    },
    {
     "data": {
      "application/vnd.holoviews_exec.v0+json": "",
      "text/html": [
       "<div id='p1002'>\n",
       "  <div id=\"b5ab28d3-60f1-4b84-af5d-e0ea8664ae7d\" data-root-id=\"p1002\" style=\"display: contents;\"></div>\n",
       "</div>\n",
       "<script type=\"application/javascript\">(function(root) {\n",
       "  var docs_json = {\"6275b1eb-3613-4b8c-a5ea-d4622a594af9\":{\"version\":\"3.3.0\",\"title\":\"Bokeh Application\",\"roots\":[{\"type\":\"object\",\"name\":\"panel.models.browser.BrowserInfo\",\"id\":\"p1002\"},{\"type\":\"object\",\"name\":\"panel.models.comm_manager.CommManager\",\"id\":\"p1003\",\"attributes\":{\"plot_id\":\"p1002\",\"comm_id\":\"43e6f9d8764d46998b9437a45882b0d1\",\"client_comm_id\":\"ebdac817c20e49cd8255934998d47282\"}}],\"defs\":[{\"type\":\"model\",\"name\":\"ReactiveHTML1\"},{\"type\":\"model\",\"name\":\"FlexBox1\",\"properties\":[{\"name\":\"align_content\",\"kind\":\"Any\",\"default\":\"flex-start\"},{\"name\":\"align_items\",\"kind\":\"Any\",\"default\":\"flex-start\"},{\"name\":\"flex_direction\",\"kind\":\"Any\",\"default\":\"row\"},{\"name\":\"flex_wrap\",\"kind\":\"Any\",\"default\":\"wrap\"},{\"name\":\"justify_content\",\"kind\":\"Any\",\"default\":\"flex-start\"}]},{\"type\":\"model\",\"name\":\"FloatPanel1\",\"properties\":[{\"name\":\"config\",\"kind\":\"Any\",\"default\":{\"type\":\"map\"}},{\"name\":\"contained\",\"kind\":\"Any\",\"default\":true},{\"name\":\"position\",\"kind\":\"Any\",\"default\":\"right-top\"},{\"name\":\"offsetx\",\"kind\":\"Any\",\"default\":null},{\"name\":\"offsety\",\"kind\":\"Any\",\"default\":null},{\"name\":\"theme\",\"kind\":\"Any\",\"default\":\"primary\"},{\"name\":\"status\",\"kind\":\"Any\",\"default\":\"normalized\"}]},{\"type\":\"model\",\"name\":\"GridStack1\",\"properties\":[{\"name\":\"mode\",\"kind\":\"Any\",\"default\":\"warn\"},{\"name\":\"ncols\",\"kind\":\"Any\",\"default\":null},{\"name\":\"nrows\",\"kind\":\"Any\",\"default\":null},{\"name\":\"allow_resize\",\"kind\":\"Any\",\"default\":true},{\"name\":\"allow_drag\",\"kind\":\"Any\",\"default\":true},{\"name\":\"state\",\"kind\":\"Any\",\"default\":[]}]},{\"type\":\"model\",\"name\":\"drag1\",\"properties\":[{\"name\":\"slider_width\",\"kind\":\"Any\",\"default\":5},{\"name\":\"slider_color\",\"kind\":\"Any\",\"default\":\"black\"},{\"name\":\"value\",\"kind\":\"Any\",\"default\":50}]},{\"type\":\"model\",\"name\":\"click1\",\"properties\":[{\"name\":\"terminal_output\",\"kind\":\"Any\",\"default\":\"\"},{\"name\":\"debug_name\",\"kind\":\"Any\",\"default\":\"\"},{\"name\":\"clears\",\"kind\":\"Any\",\"default\":0}]},{\"type\":\"model\",\"name\":\"toggle_value1\",\"properties\":[{\"name\":\"active_icons\",\"kind\":\"Any\",\"default\":{\"type\":\"map\"}},{\"name\":\"options\",\"kind\":\"Any\",\"default\":{\"type\":\"map\",\"entries\":[[\"favorite\",\"heart\"]]}},{\"name\":\"value\",\"kind\":\"Any\",\"default\":[]},{\"name\":\"_reactions\",\"kind\":\"Any\",\"default\":[]},{\"name\":\"_base_url\",\"kind\":\"Any\",\"default\":\"https://tabler-icons.io/static/tabler-icons/icons/\"}]},{\"type\":\"model\",\"name\":\"copy_to_clipboard1\",\"properties\":[{\"name\":\"value\",\"kind\":\"Any\",\"default\":null},{\"name\":\"fill\",\"kind\":\"Any\",\"default\":\"none\"}]},{\"type\":\"model\",\"name\":\"FastWrapper1\",\"properties\":[{\"name\":\"object\",\"kind\":\"Any\",\"default\":null},{\"name\":\"style\",\"kind\":\"Any\",\"default\":null}]},{\"type\":\"model\",\"name\":\"NotificationAreaBase1\",\"properties\":[{\"name\":\"js_events\",\"kind\":\"Any\",\"default\":{\"type\":\"map\"}},{\"name\":\"position\",\"kind\":\"Any\",\"default\":\"bottom-right\"},{\"name\":\"_clear\",\"kind\":\"Any\",\"default\":0}]},{\"type\":\"model\",\"name\":\"NotificationArea1\",\"properties\":[{\"name\":\"js_events\",\"kind\":\"Any\",\"default\":{\"type\":\"map\"}},{\"name\":\"notifications\",\"kind\":\"Any\",\"default\":[]},{\"name\":\"position\",\"kind\":\"Any\",\"default\":\"bottom-right\"},{\"name\":\"_clear\",\"kind\":\"Any\",\"default\":0},{\"name\":\"types\",\"kind\":\"Any\",\"default\":[{\"type\":\"map\",\"entries\":[[\"type\",\"warning\"],[\"background\",\"#ffc107\"],[\"icon\",{\"type\":\"map\",\"entries\":[[\"className\",\"fas fa-exclamation-triangle\"],[\"tagName\",\"i\"],[\"color\",\"white\"]]}]]},{\"type\":\"map\",\"entries\":[[\"type\",\"info\"],[\"background\",\"#007bff\"],[\"icon\",{\"type\":\"map\",\"entries\":[[\"className\",\"fas fa-info-circle\"],[\"tagName\",\"i\"],[\"color\",\"white\"]]}]]}]}]},{\"type\":\"model\",\"name\":\"Notification\",\"properties\":[{\"name\":\"background\",\"kind\":\"Any\",\"default\":null},{\"name\":\"duration\",\"kind\":\"Any\",\"default\":3000},{\"name\":\"icon\",\"kind\":\"Any\",\"default\":null},{\"name\":\"message\",\"kind\":\"Any\",\"default\":\"\"},{\"name\":\"notification_type\",\"kind\":\"Any\",\"default\":null},{\"name\":\"_destroyed\",\"kind\":\"Any\",\"default\":false}]},{\"type\":\"model\",\"name\":\"TemplateActions1\",\"properties\":[{\"name\":\"open_modal\",\"kind\":\"Any\",\"default\":0},{\"name\":\"close_modal\",\"kind\":\"Any\",\"default\":0}]},{\"type\":\"model\",\"name\":\"BootstrapTemplateActions1\",\"properties\":[{\"name\":\"open_modal\",\"kind\":\"Any\",\"default\":0},{\"name\":\"close_modal\",\"kind\":\"Any\",\"default\":0}]},{\"type\":\"model\",\"name\":\"MaterialTemplateActions1\",\"properties\":[{\"name\":\"open_modal\",\"kind\":\"Any\",\"default\":0},{\"name\":\"close_modal\",\"kind\":\"Any\",\"default\":0}]}]}};\n",
       "  var render_items = [{\"docid\":\"6275b1eb-3613-4b8c-a5ea-d4622a594af9\",\"roots\":{\"p1002\":\"b5ab28d3-60f1-4b84-af5d-e0ea8664ae7d\"},\"root_ids\":[\"p1002\"]}];\n",
       "  var docs = Object.values(docs_json)\n",
       "  if (!docs) {\n",
       "    return\n",
       "  }\n",
       "  const py_version = docs[0].version.replace('rc', '-rc.').replace('.dev', '-dev.')\n",
       "  const is_dev = py_version.indexOf(\"+\") !== -1 || py_version.indexOf(\"-\") !== -1\n",
       "  function embed_document(root) {\n",
       "    var Bokeh = get_bokeh(root)\n",
       "    Bokeh.embed.embed_items_notebook(docs_json, render_items);\n",
       "    for (const render_item of render_items) {\n",
       "      for (const root_id of render_item.root_ids) {\n",
       "\tconst id_el = document.getElementById(root_id)\n",
       "\tif (id_el.children.length && (id_el.children[0].className === 'bk-root')) {\n",
       "\t  const root_el = id_el.children[0]\n",
       "\t  root_el.id = root_el.id + '-rendered'\n",
       "\t}\n",
       "      }\n",
       "    }\n",
       "  }\n",
       "  function get_bokeh(root) {\n",
       "    if (root.Bokeh === undefined) {\n",
       "      return null\n",
       "    } else if (root.Bokeh.version !== py_version && !is_dev) {\n",
       "      if (root.Bokeh.versions === undefined || !root.Bokeh.versions.has(py_version)) {\n",
       "\treturn null\n",
       "      }\n",
       "      return root.Bokeh.versions.get(py_version);\n",
       "    } else if (root.Bokeh.version === py_version) {\n",
       "      return root.Bokeh\n",
       "    }\n",
       "    return null\n",
       "  }\n",
       "  function is_loaded(root) {\n",
       "    var Bokeh = get_bokeh(root)\n",
       "    return (Bokeh != null && Bokeh.Panel !== undefined)\n",
       "  }\n",
       "  if (is_loaded(root)) {\n",
       "    embed_document(root);\n",
       "  } else {\n",
       "    var attempts = 0;\n",
       "    var timer = setInterval(function(root) {\n",
       "      if (is_loaded(root)) {\n",
       "        clearInterval(timer);\n",
       "        embed_document(root);\n",
       "      } else if (document.readyState == \"complete\") {\n",
       "        attempts++;\n",
       "        if (attempts > 200) {\n",
       "          clearInterval(timer);\n",
       "\t  var Bokeh = get_bokeh(root)\n",
       "\t  if (Bokeh == null || Bokeh.Panel == null) {\n",
       "            console.warn(\"Panel: ERROR: Unable to run Panel code because Bokeh or Panel library is missing\");\n",
       "\t  } else {\n",
       "\t    console.warn(\"Panel: WARNING: Attempting to render but not all required libraries could be resolved.\")\n",
       "\t    embed_document(root)\n",
       "\t  }\n",
       "        }\n",
       "      }\n",
       "    }, 25, root)\n",
       "  }\n",
       "})(window);</script>"
      ]
     },
     "metadata": {
      "application/vnd.holoviews_exec.v0+json": {
       "id": "p1002"
      }
     },
     "output_type": "display_data"
    }
   ],
   "source": [
    "#Import the required libraries\n",
    "\n",
    "import numpy as np # Linear alzebra\n",
    "import pandas as pd # Data manipulation\n",
    "\n",
    "# Data Visualisation\n",
    "import matplotlib.pyplot as plt\n",
    "import seaborn as sns\n",
    "import plotly.express as px\n",
    "import hvplot.pandas \n",
    "\n",
    "# import library to filter warnings\n",
    "import warnings\n",
    "warnings.filterwarnings('ignore')\n",
    "\n"
   ]
  },
  {
   "cell_type": "code",
   "execution_count": 2,
   "id": "9652c145",
   "metadata": {},
   "outputs": [],
   "source": [
    "# read CSV using pandas and name data fram as raw_df\n",
    "raw_df = pd.read_csv(\"lending_club_loan_two.csv\")"
   ]
  },
  {
   "cell_type": "code",
   "execution_count": null,
   "id": "6cc2bfae",
   "metadata": {},
   "outputs": [],
   "source": [
    "# Check for the size of the dataset\n",
    "raw_df.shape"
   ]
  },
  {
   "cell_type": "markdown",
   "id": "5cc14f02",
   "metadata": {},
   "source": [
    "Data frame has 396030 rows or observations and 27 columns"
   ]
  },
  {
   "cell_type": "code",
   "execution_count": 3,
   "id": "07b718a1",
   "metadata": {},
   "outputs": [],
   "source": [
    "# Change the default pandas dataframe display option to enable viewing all columns of the dataframe\n",
    "pd.set_option('display.max_columns', None) # This option is enabled to look at all the columns in a data frame"
   ]
  },
  {
   "cell_type": "code",
   "execution_count": null,
   "id": "02b21137",
   "metadata": {},
   "outputs": [],
   "source": [
    "# Take a glimpse of the dataframe\n",
    "raw_df.head(5)"
   ]
  },
  {
   "cell_type": "code",
   "execution_count": null,
   "id": "8bb75bbe",
   "metadata": {},
   "outputs": [],
   "source": [
    "# Check the column names and data types\n",
    "raw_df.info()"
   ]
  },
  {
   "cell_type": "markdown",
   "id": "83ee88f8",
   "metadata": {},
   "source": [
    "**Datatypes:** Column `Term` could transformed from object to numeric.\n",
    "\n",
    "**Datatypes:** Column `Term` could transformed from object to numeric later on.\n",
    "\n",
    "**Feature Engineering**: \n",
    "1. New columns `month` and `year` could be extracted from `issue_d` column  \n",
    "2. New columns `city`, `state` and `pincode` could be extracted from `address` column \n",
    "3. New column `inc_by_loan` = (`annual_inc`)/(`loan_amnt`) could be calculated.\n",
    "4. New column `debt` = `dti` * `annual_inc` could be calculated\n"
   ]
  },
  {
   "cell_type": "markdown",
   "id": "81477d70",
   "metadata": {},
   "source": [
    "### Unique values"
   ]
  },
  {
   "cell_type": "code",
   "execution_count": null,
   "id": "7f99f1dc",
   "metadata": {},
   "outputs": [],
   "source": [
    "# Percentage of unique values in columns, which\n",
    "\n",
    "# Calculate number of unique values in each column of data frame\n",
    "unique_values = raw_df.nunique()\n",
    "\n",
    "# Calculate total values in each column\n",
    "count_values  = raw_df.count()\n",
    "\n",
    "# Calculate percentage of unique values and sort the values in descending order\n",
    "percentage_unique_values = (unique_values * 100 / count_values).sort_values(ascending = False)\n",
    "\n",
    "# Print the percentages, rounded to one decimal\n",
    "display(percentage_unique_values.round())"
   ]
  },
  {
   "cell_type": "markdown",
   "id": "86c8d405",
   "metadata": {},
   "source": [
    "**Observations**\n",
    "\n",
    "* Any column having high percentage of unique values makes it difficult to summarise and analyse. Further, it is difficult to apply encoding.  \n",
    "* `address`:  99% percent of addresses are unique. We may drop this column after we extract city, state and pin code values. We \n",
    "* `emp_title`: 46% percent of employee titles are unique. Similar to address, employee title column is not useful for analysis and may be dropped."
   ]
  },
  {
   "cell_type": "code",
   "execution_count": 4,
   "id": "10a532e9",
   "metadata": {},
   "outputs": [],
   "source": [
    "# drop the 'emp_title' column\n",
    "raw_df = raw_df.drop(columns = ['emp_title'])"
   ]
  },
  {
   "cell_type": "markdown",
   "id": "093021b0",
   "metadata": {},
   "source": [
    "### Summary Statistics of Dataset"
   ]
  },
  {
   "cell_type": "code",
   "execution_count": null,
   "id": "c5e07dc8",
   "metadata": {},
   "outputs": [],
   "source": [
    "# Calculate brief summary statistics\n",
    "raw_df.describe().round().T"
   ]
  },
  {
   "cell_type": "markdown",
   "id": "77062d3a",
   "metadata": {},
   "source": [
    "1. **loan_amount** The average loan is ~14,113 USD. Min loan amount is 500.00 USD and max is 40,000.00 USD. \n",
    "2. **int_rate**\tThe interest rate on an average is 13.63%"
   ]
  },
  {
   "cell_type": "markdown",
   "id": "03055699",
   "metadata": {},
   "source": [
    "### Duplicates"
   ]
  },
  {
   "cell_type": "code",
   "execution_count": null,
   "id": "c0538aed",
   "metadata": {},
   "outputs": [],
   "source": [
    "# check for duplicate rows\n",
    "raw_df.duplicated().sum() "
   ]
  },
  {
   "cell_type": "markdown",
   "id": "f1d775e4",
   "metadata": {},
   "source": [
    "There are no duplicate rows in the dataset."
   ]
  },
  {
   "cell_type": "markdown",
   "id": "408a06b8",
   "metadata": {},
   "source": [
    "### Null Values"
   ]
  },
  {
   "cell_type": "code",
   "execution_count": null,
   "id": "a54bf069",
   "metadata": {},
   "outputs": [],
   "source": [
    "# Calculate the number of nulls in each column\n",
    "columns_null_count = raw_df.isna().sum(axis=0)\n",
    "\n",
    "# Total rows in data frame\n",
    "total_rows = raw_df.shape[0]\n",
    "\n",
    "# Calculate percentage of nulls and apply filter of non-zero null count in column\n",
    "percentage_of_nulls = (columns_null_count * 100 / total_rows).round(2)\n",
    "\n",
    "# Filter columns with non-zero null count\n",
    "non_zero_nulls = percentage_of_nulls[percentage_of_nulls != 0]\n",
    "\n",
    "# Print percentage of nulls in the columns having null values decreasing order\n",
    "print(non_zero_nulls.sort_values(ascending = False))"
   ]
  },
  {
   "cell_type": "markdown",
   "id": "a81df985",
   "metadata": {},
   "source": [
    " **Observations:** \n",
    " \n",
    " * Column `mort_acc` has almost 10% of its values as null. \n",
    " * Column `emp_title` and column `emp_length` has a fair percentage (5.79% and 4.62% respectively) of its values as null.\n",
    " * Column `title` has 0.44% of its values as null.\n",
    " * Other columns shown above have insignificant null percentage."
   ]
  },
  {
   "cell_type": "markdown",
   "id": "b380e632",
   "metadata": {},
   "source": [
    "#### Handling Null values in columns\n",
    "* `revol_util` and `pub_rec_bankruptcies`: These columns have low percentage of null values. We may remove the rows with null values in these columns. \n",
    "* There are null values in columns emp_title, emp_length, title, revol_util, mort_acc, pub_rec_bankruptcies. These nulls have to handled appropriately."
   ]
  },
  {
   "cell_type": "markdown",
   "id": "bb6b97d2",
   "metadata": {},
   "source": [
    "**I. Null values in `revol_util` and `pub_rec_bankruptcies`**"
   ]
  },
  {
   "cell_type": "code",
   "execution_count": 5,
   "id": "c009ce83",
   "metadata": {},
   "outputs": [],
   "source": [
    "# Use dropna()method to drop rows with NA values in columns `revol_util` and `pub_rec_bankruptcies`\n",
    "raw_df = raw_df.dropna(subset=['revol_util', 'pub_rec_bankruptcies'])"
   ]
  },
  {
   "cell_type": "markdown",
   "id": "c76cf7a8",
   "metadata": {},
   "source": [
    "We have removed the rows with NA values in columns `revol_util` and `pub_rec_bankruptcies`. "
   ]
  },
  {
   "cell_type": "markdown",
   "id": "a308d27d",
   "metadata": {},
   "source": [
    "**II. Null values in `emp_length`**"
   ]
  },
  {
   "cell_type": "code",
   "execution_count": null,
   "id": "a947f5df",
   "metadata": {},
   "outputs": [],
   "source": [
    "# Number of unique values in emp_length\n",
    "print(f\"Column `emp_length` has {raw_df['emp_length'].nunique()} unique values \\n\") \n",
    "\n",
    "# List the categories of unique values in emp_length\n",
    "print(f\"The categories are as under: \\n\\n {raw_df['emp_length'].unique()}\")"
   ]
  },
  {
   "cell_type": "markdown",
   "id": "81170372",
   "metadata": {},
   "source": [
    "Since `emp_length` has 4.62% of null values, it may not be prudent to remove the corresponding rows as we may lose important patterns in data. Let's examine how the distribution of `loan_status` is with respect to various categories of `emp_length` to understand how the distribution changes.\n",
    "\n",
    "We use the crosstab approach to understand this."
   ]
  },
  {
   "cell_type": "code",
   "execution_count": null,
   "id": "99376d2c",
   "metadata": {},
   "outputs": [],
   "source": [
    "# Compute a simple cross tabulation of ''emp_length' and 'loan_status'. \n",
    "cross_tab = pd.crosstab(index=raw_df['emp_length'], columns=raw_df['loan_status'], normalize='index').round(2)\n",
    "\n",
    "# print normalised porportions for each category of emp_length\n",
    "print(cross_tab)"
   ]
  },
  {
   "cell_type": "code",
   "execution_count": 12,
   "id": "c3461d9d",
   "metadata": {},
   "outputs": [],
   "source": [
    "raw_df['emp_length_numeric'] = raw_df['emp_length'].map({\n",
    "    '< 1 year': 0,\n",
    "    '1 year': 1,\n",
    "    '2 years': 2,\n",
    "    '3 years': 3,\n",
    "    '4 years': 4,\n",
    "    '5 years': 5,\n",
    "    '6 years': 6,\n",
    "    '7 years': 7,\n",
    "    '8 years': 8,\n",
    "    '9 years': 9,\n",
    "    '10+ years': 10,\n",
    "    None: None  # to handle NaN values\n",
    "})\n"
   ]
  },
  {
   "cell_type": "code",
   "execution_count": 14,
   "id": "08bf1699",
   "metadata": {},
   "outputs": [
    {
     "data": {
      "text/html": [
       "<div>\n",
       "<style scoped>\n",
       "    .dataframe tbody tr th:only-of-type {\n",
       "        vertical-align: middle;\n",
       "    }\n",
       "\n",
       "    .dataframe tbody tr th {\n",
       "        vertical-align: top;\n",
       "    }\n",
       "\n",
       "    .dataframe thead th {\n",
       "        text-align: right;\n",
       "    }\n",
       "</style>\n",
       "<table border=\"1\" class=\"dataframe\">\n",
       "  <thead>\n",
       "    <tr style=\"text-align: right;\">\n",
       "      <th></th>\n",
       "      <th>emp_length_numeric</th>\n",
       "      <th>loan_status</th>\n",
       "    </tr>\n",
       "  </thead>\n",
       "  <tbody>\n",
       "    <tr>\n",
       "      <th>emp_length_numeric</th>\n",
       "      <td>1.000000</td>\n",
       "      <td>0.013805</td>\n",
       "    </tr>\n",
       "    <tr>\n",
       "      <th>loan_status</th>\n",
       "      <td>0.013805</td>\n",
       "      <td>1.000000</td>\n",
       "    </tr>\n",
       "  </tbody>\n",
       "</table>\n",
       "</div>"
      ],
      "text/plain": [
       "                    emp_length_numeric  loan_status\n",
       "emp_length_numeric            1.000000     0.013805\n",
       "loan_status                   0.013805     1.000000"
      ]
     },
     "execution_count": 14,
     "metadata": {},
     "output_type": "execute_result"
    }
   ],
   "source": [
    "raw_df[['emp_length_numeric','loan_status']].corr()"
   ]
  },
  {
   "cell_type": "markdown",
   "id": "3e3d02e4",
   "metadata": {},
   "source": [
    "The above data that the proportions are quite consistent across different employment lengths. This indicates that practical impact of `emp_length` on predicting `loan_status` is limited. We may proceed to remove this column."
   ]
  },
  {
   "cell_type": "code",
   "execution_count": 18,
   "id": "1b529894",
   "metadata": {},
   "outputs": [],
   "source": [
    "#from scipy.stats import chi2_contingency\n",
    "\n",
    "#Create a contingency table\n",
    "#contingency_table = pd.crosstab(raw_df['emp_length'], raw_df['loan_status'])\n",
    "\n",
    "# Perform the Chi-Square test\n",
    "#chi2, p, dof, expected = chi2_contingency(contingency_table)\n",
    "\n",
    "#print(\"Chi-Square Statistic:\", chi2)\n",
    "#print(\"P-value:\", p)\n",
    "#print(\"Degrees of Freedom:\", dof)\n",
    "#print(\"Expected Frequencies:\\n\", expected)"
   ]
  },
  {
   "cell_type": "markdown",
   "id": "a045da01",
   "metadata": {},
   "source": [
    "**III. Null values in `title`**"
   ]
  },
  {
   "cell_type": "code",
   "execution_count": null,
   "id": "36f5f99a",
   "metadata": {},
   "outputs": [],
   "source": [
    "# Calculate the top 5 most frequently ocurring categories in column 'title'\n",
    "raw_df['title'].value_counts()[:5] "
   ]
  },
  {
   "cell_type": "markdown",
   "id": "642855d0",
   "metadata": {},
   "source": [
    "It looks like there are many duplicated categories. For instance, Debt consolidation is captured as different values. We can merge the categories to reduce the number of categories. Let us look at the `title` column and compare with `purpose` column."
   ]
  },
  {
   "cell_type": "code",
   "execution_count": null,
   "id": "b78c0a87",
   "metadata": {},
   "outputs": [],
   "source": [
    "raw_df[['purpose','title']].sample(5)"
   ]
  },
  {
   "cell_type": "markdown",
   "id": "42a426b7",
   "metadata": {},
   "source": [
    "We observe that it has values similar to the purpose column. Infact, the `purpose` column appears to have input validation control and `title` column has appears to be more customised text. We may proceed to remove the `title` column."
   ]
  },
  {
   "cell_type": "markdown",
   "id": "3df1a016",
   "metadata": {},
   "source": [
    "**IV. Null values in `mort_acc`**"
   ]
  },
  {
   "cell_type": "code",
   "execution_count": 6,
   "id": "67e2985f",
   "metadata": {},
   "outputs": [],
   "source": [
    "# Map 'Charged Off' to 0 and 'Fully Paid' to 1 in the 'loan_status' column\n",
    "raw_df['loan_status'] = raw_df['loan_status'].map({'Charged Off': 0, 'Fully Paid': 1})"
   ]
  },
  {
   "cell_type": "code",
   "execution_count": 15,
   "id": "3c93a797",
   "metadata": {},
   "outputs": [
    {
     "data": {
      "text/html": [
       "<div>\n",
       "<style scoped>\n",
       "    .dataframe tbody tr th:only-of-type {\n",
       "        vertical-align: middle;\n",
       "    }\n",
       "\n",
       "    .dataframe tbody tr th {\n",
       "        vertical-align: top;\n",
       "    }\n",
       "\n",
       "    .dataframe thead th {\n",
       "        text-align: right;\n",
       "    }\n",
       "</style>\n",
       "<table border=\"1\" class=\"dataframe\">\n",
       "  <thead>\n",
       "    <tr style=\"text-align: right;\">\n",
       "      <th></th>\n",
       "      <th>mort_acc</th>\n",
       "      <th>loan_status</th>\n",
       "    </tr>\n",
       "  </thead>\n",
       "  <tbody>\n",
       "    <tr>\n",
       "      <th>mort_acc</th>\n",
       "      <td>1.000000</td>\n",
       "      <td>0.073048</td>\n",
       "    </tr>\n",
       "    <tr>\n",
       "      <th>loan_status</th>\n",
       "      <td>0.073048</td>\n",
       "      <td>1.000000</td>\n",
       "    </tr>\n",
       "  </tbody>\n",
       "</table>\n",
       "</div>"
      ],
      "text/plain": [
       "             mort_acc  loan_status\n",
       "mort_acc     1.000000     0.073048\n",
       "loan_status  0.073048     1.000000"
      ]
     },
     "execution_count": 15,
     "metadata": {},
     "output_type": "execute_result"
    }
   ],
   "source": [
    "raw_df[['mort_acc','loan_status']].corr()"
   ]
  },
  {
   "cell_type": "code",
   "execution_count": 9,
   "id": "51dc7ee9",
   "metadata": {},
   "outputs": [
    {
     "data": {
      "text/html": [
       "<div>\n",
       "<style scoped>\n",
       "    .dataframe tbody tr th:only-of-type {\n",
       "        vertical-align: middle;\n",
       "    }\n",
       "\n",
       "    .dataframe tbody tr th {\n",
       "        vertical-align: top;\n",
       "    }\n",
       "\n",
       "    .dataframe thead th {\n",
       "        text-align: right;\n",
       "    }\n",
       "</style>\n",
       "<table border=\"1\" class=\"dataframe\">\n",
       "  <thead>\n",
       "    <tr style=\"text-align: right;\">\n",
       "      <th></th>\n",
       "      <th>mort_acc</th>\n",
       "      <th>loan_status</th>\n",
       "    </tr>\n",
       "  </thead>\n",
       "  <tbody>\n",
       "    <tr>\n",
       "      <th>81550</th>\n",
       "      <td>0.0</td>\n",
       "      <td>1</td>\n",
       "    </tr>\n",
       "    <tr>\n",
       "      <th>124663</th>\n",
       "      <td>2.0</td>\n",
       "      <td>1</td>\n",
       "    </tr>\n",
       "    <tr>\n",
       "      <th>387738</th>\n",
       "      <td>0.0</td>\n",
       "      <td>0</td>\n",
       "    </tr>\n",
       "    <tr>\n",
       "      <th>371582</th>\n",
       "      <td>0.0</td>\n",
       "      <td>0</td>\n",
       "    </tr>\n",
       "    <tr>\n",
       "      <th>255136</th>\n",
       "      <td>0.0</td>\n",
       "      <td>1</td>\n",
       "    </tr>\n",
       "    <tr>\n",
       "      <th>271145</th>\n",
       "      <td>1.0</td>\n",
       "      <td>0</td>\n",
       "    </tr>\n",
       "    <tr>\n",
       "      <th>377318</th>\n",
       "      <td>NaN</td>\n",
       "      <td>1</td>\n",
       "    </tr>\n",
       "    <tr>\n",
       "      <th>234228</th>\n",
       "      <td>2.0</td>\n",
       "      <td>1</td>\n",
       "    </tr>\n",
       "    <tr>\n",
       "      <th>386291</th>\n",
       "      <td>4.0</td>\n",
       "      <td>0</td>\n",
       "    </tr>\n",
       "    <tr>\n",
       "      <th>283251</th>\n",
       "      <td>NaN</td>\n",
       "      <td>1</td>\n",
       "    </tr>\n",
       "  </tbody>\n",
       "</table>\n",
       "</div>"
      ],
      "text/plain": [
       "        mort_acc  loan_status\n",
       "81550        0.0            1\n",
       "124663       2.0            1\n",
       "387738       0.0            0\n",
       "371582       0.0            0\n",
       "255136       0.0            1\n",
       "271145       1.0            0\n",
       "377318       NaN            1\n",
       "234228       2.0            1\n",
       "386291       4.0            0\n",
       "283251       NaN            1"
      ]
     },
     "execution_count": 9,
     "metadata": {},
     "output_type": "execute_result"
    }
   ],
   "source": [
    "raw_df[['mort_acc','loan_status']].sample(10)"
   ]
  },
  {
   "cell_type": "code",
   "execution_count": null,
   "id": "73b75199",
   "metadata": {},
   "outputs": [],
   "source": [
    "numeric_df = raw_df.select_dtypes(\"number\")\n",
    "\n",
    "plot_num = 1\n",
    "\n",
    "plt.subplots(6,2, figsize=(20,20))\n",
    "\n",
    "for col in numeric_df.columns:\n",
    "    plt.subplot(6,2,plot_num)\n",
    "    sns.histplot(raw_df[col])\n",
    "    plot_num +=1\n",
    "\n",
    "plt.tight_layout()\n",
    "plt.show()"
   ]
  },
  {
   "cell_type": "code",
   "execution_count": null,
   "id": "ecbd2a64",
   "metadata": {},
   "outputs": [],
   "source": [
    "cols_with_outliers = ['annual_inc', 'dti', 'revol_bal', 'revol_util']\n",
    "\n",
    "plt.subplots(2,2, figsize=(15,5.5))\n",
    "plot_num = 1\n",
    "\n",
    "for col in cols_with_outliers:\n",
    "    q1 = raw_df[col].quantile(0.25)\n",
    "    q3 = raw_df[col].quantile(0.75)\n",
    "    iqr = q3 - q1\n",
    "\n",
    "    lower_bound = q1 - 1.5 * iqr\n",
    "    upper_bound = q3 + 1.5 * iqr\n",
    "\n",
    "    filtered_data = raw_df[(raw_df[col] >= lower_bound) & (raw_df[col] <= upper_bound)]\n",
    "\n",
    "    plt.subplot(2, 2, plot_num)  # Adjust the subplot grid as needed\n",
    "    \n",
    "    sns.histplot(filtered_data[col])\n",
    "    plt.title(f\"Distribution of {col} (excluding outliers)\")\n",
    "    plt.xlabel(col)\n",
    "    plt.ylabel(\"Number of Loans\")\n",
    "\n",
    "    plot_num += 1\n",
    "\n",
    "plt.tight_layout()  # Adjust layout for better spacing\n",
    "plt.show()"
   ]
  },
  {
   "cell_type": "code",
   "execution_count": null,
   "id": "286510f5",
   "metadata": {},
   "outputs": [],
   "source": [
    "#categorical_cols = ['term','grade','sub_grade','emp_title','emp_length','home_ownership','verification_status',\n",
    "                  #'issue_d', 'loan_status','purpose','title','initial_list_status','application_type']\n",
    "\n",
    "categorical_cols = ['term','grade','emp_length','home_ownership','verification_status','loan_status',\n",
    "                   'initial_list_status','application_type']\n",
    "\n",
    "plot_num = 1\n",
    "\n",
    "plt.subplots(4, 2, figsize=(15, 10))\n",
    "\n",
    "for col in categorical_cols:\n",
    "    plt.subplot(4, 2, plot_num)\n",
    "    \n",
    "    # Calculate normalized counts manually\n",
    "    counts = raw_df[col].value_counts(normalize=True)\n",
    "    \n",
    "    # Plot the bar chart\n",
    "    sns.barplot(x=counts.index, y=counts.values)\n",
    "    \n",
    "    plt.title(f\"Normalized Count of {col}\")\n",
    "    plt.xlabel(col)\n",
    "    plt.ylabel(\"Percentage\")\n",
    "    plot_num += 1\n",
    "\n",
    "plt.tight_layout()\n",
    "plt.show()"
   ]
  },
  {
   "cell_type": "code",
   "execution_count": null,
   "id": "d12e531c",
   "metadata": {},
   "outputs": [],
   "source": [
    "categorical_df = raw_df.select_dtypes(\"object\")\n",
    "categorical_df.columns"
   ]
  },
  {
   "cell_type": "markdown",
   "id": "ceca28dd",
   "metadata": {},
   "source": [
    "1. Maximum loans are in the range of 5k to 12.5k USD.\n",
    "2. Minimum loans are extended in range of 27k to 32k USD.\n"
   ]
  },
  {
   "cell_type": "markdown",
   "id": "edc28ddb",
   "metadata": {},
   "source": [
    "Most loans are in the range of 11% to 16%. The loans above 21% taper off."
   ]
  },
  {
   "cell_type": "code",
   "execution_count": null,
   "id": "d0b3f9cd",
   "metadata": {},
   "outputs": [],
   "source": [
    "rates = raw_df.groupby([\"grade\", \"term\"])[\"term\"].count()/raw_df.groupby([\"grade\"])[\"term\"].count()\n",
    "rates.unstack().plot(kind=\"barh\", stacked=True)\n",
    "sns.despine()"
   ]
  },
  {
   "cell_type": "code",
   "execution_count": null,
   "id": "68dd9ead",
   "metadata": {},
   "outputs": [],
   "source": [
    "# Create a mask to hide the upper triangle\n",
    "mask = np.triu(np.ones_like(raw_df.corr(), dtype=bool))\n",
    "\n",
    "# Set up the figure with size\n",
    "plt.figure(figsize=(15, 10))\n",
    "\n",
    "# Draw the heatmap with the mask\n",
    "sns.heatmap(data = raw_df.corr(), cmap=\"coolwarm\", annot=True, mask=mask)\n",
    "\n",
    "plt.show()\n"
   ]
  },
  {
   "cell_type": "code",
   "execution_count": null,
   "id": "607530a1",
   "metadata": {},
   "outputs": [],
   "source": [
    "raw_df['loan_status'].value_counts().hvplot.bar(\n",
    "    title=\"Loan Status Counts\", xlabel='Loan Status', ylabel='Count', \n",
    "    width=500, height=350\n",
    ")"
   ]
  },
  {
   "cell_type": "markdown",
   "id": "5308a450",
   "metadata": {},
   "source": [
    "## Exploring columns with null values\n",
    "\n",
    "We had earlier seem that some of the columns have null values. Let's calculate the percentages of nulls in these columns."
   ]
  },
  {
   "cell_type": "code",
   "execution_count": null,
   "id": "4a27b6fb",
   "metadata": {},
   "outputs": [],
   "source": [
    "#Extract columns with null values and calcuate the percentages.\n",
    "columns_with_nulls = (raw_df.isna().sum(axis=0) * 100 / raw_df.shape[0]).round(2).loc[lambda x: x != 0]\n",
    "\n",
    "# print percentage of nulls in the columns having null values\n",
    "print(columns_with_nulls.sort_values(ascending = True))"
   ]
  },
  {
   "cell_type": "markdown",
   "id": "8533fdb7",
   "metadata": {},
   "source": [
    "`revol_util` and `pub_rec_bankruptcies` have small percentage of null values and we can remove the rows in these columns that have `revol_util` and `pub_rec_bankruptcies` as null values"
   ]
  },
  {
   "cell_type": "code",
   "execution_count": null,
   "id": "83b791aa",
   "metadata": {},
   "outputs": [],
   "source": [
    "raw_df.dropna(subset=['revol_util', 'pub_rec_bankruptcies'], inplace=True)"
   ]
  },
  {
   "cell_type": "code",
   "execution_count": null,
   "id": "7958c59b",
   "metadata": {},
   "outputs": [],
   "source": [
    "raw_df.shape"
   ]
  },
  {
   "cell_type": "markdown",
   "id": "5d8fc516",
   "metadata": {},
   "source": [
    "Let us look at `title` column. We observe that it has values similar to the `purpose` column. "
   ]
  },
  {
   "cell_type": "code",
   "execution_count": null,
   "id": "e1a24ea2",
   "metadata": {},
   "outputs": [],
   "source": [
    "raw_df[['purpose','title']].sample(5)"
   ]
  },
  {
   "cell_type": "markdown",
   "id": "a848e182",
   "metadata": {},
   "source": [
    "Based on above, we may proceed to remove the column `title`"
   ]
  },
  {
   "cell_type": "code",
   "execution_count": null,
   "id": "d809ce7c",
   "metadata": {},
   "outputs": [],
   "source": [
    "# number of unique values on `emp_length` column\n",
    "raw_df['emp_length'].nunique() "
   ]
  },
  {
   "cell_type": "code",
   "execution_count": null,
   "id": "097afecf",
   "metadata": {},
   "outputs": [],
   "source": [
    "cross_tab = pd.crosstab(index=raw_df['emp_length'], columns=raw_df['loan_status'], normalize='index').round(2)\n",
    "\n",
    "# print normalised porportions for each category of emp_length\n",
    "print(cross_tab)\n"
   ]
  },
  {
   "cell_type": "markdown",
   "id": "d0bc29a8",
   "metadata": {},
   "source": [
    "We notice that for every category of emp_length, the charged off and full paid values maintain the same proportion. This implies that  emp_length does not influence loan_status. Therefore, we may remove the `emp_length` column."
   ]
  },
  {
   "cell_type": "code",
   "execution_count": null,
   "id": "557bbc5d",
   "metadata": {},
   "outputs": [],
   "source": [
    "raw_df['emp_title'].nunique() #Check the number of unique 'employee title' values"
   ]
  },
  {
   "cell_type": "markdown",
   "id": "2eb9c51f",
   "metadata": {},
   "source": [
    "We may proceed to delete this column `emp_title` as there are too many unique and we would not be able to convert this numerical column."
   ]
  },
  {
   "cell_type": "code",
   "execution_count": null,
   "id": "e8ac5f7f",
   "metadata": {},
   "outputs": [],
   "source": [
    "raw_df[['purpose','title']].sample(5)"
   ]
  },
  {
   "cell_type": "code",
   "execution_count": null,
   "id": "9fb5bc55",
   "metadata": {},
   "outputs": [],
   "source": []
  },
  {
   "cell_type": "code",
   "execution_count": null,
   "id": "2b72694c",
   "metadata": {},
   "outputs": [],
   "source": [
    "raw_df.corr()['mort_acc'].round(1)"
   ]
  },
  {
   "cell_type": "code",
   "execution_count": null,
   "id": "df8bec50",
   "metadata": {},
   "outputs": [],
   "source": [
    "raw_df['mort_acc'].value_counts()"
   ]
  },
  {
   "cell_type": "code",
   "execution_count": null,
   "id": "d49f316b",
   "metadata": {},
   "outputs": [],
   "source": [
    "raw_df[raw_df['mort_acc'].notna()].corr()['mort_acc'].round(1)"
   ]
  },
  {
   "cell_type": "markdown",
   "id": "f7013832",
   "metadata": {},
   "source": [
    "The highest correlation is observed for `total_acc`, but the same is not high enough for us to be able to delete the same."
   ]
  },
  {
   "cell_type": "markdown",
   "id": "ace915d6",
   "metadata": {},
   "source": [
    " We observe there is no common ratio. There is some relation between `mort_acc` and `loan_status`. So, we may not delete the column and instead proceed with imputation by filling with some value. We can use the fillna() method for imputation of `mort_acc'. "
   ]
  },
  {
   "cell_type": "markdown",
   "id": "73091bee",
   "metadata": {},
   "source": [
    "As we explored all the columns which have null values, we proceed with dropping all columns with null values, except for `mort_acc`"
   ]
  },
  {
   "cell_type": "code",
   "execution_count": null,
   "id": "87dd9078",
   "metadata": {},
   "outputs": [],
   "source": [
    "raw_df['mort_acc'].fillna(raw_df['mort_acc'].mean(), inplace=True)\n",
    "\n"
   ]
  },
  {
   "cell_type": "code",
   "execution_count": null,
   "id": "3293b9ae",
   "metadata": {},
   "outputs": [],
   "source": [
    "raw_df.isnull().sum() # checking for nulls"
   ]
  },
  {
   "cell_type": "code",
   "execution_count": null,
   "id": "66e2d30d",
   "metadata": {},
   "outputs": [],
   "source": [
    "#drop the columns 'title','emp_length','revol_util','pub_rec_bankruptcies','emp_title' \n",
    "raw_df = raw_df.drop(columns = ['title','emp_length','emp_title'])"
   ]
  },
  {
   "cell_type": "code",
   "execution_count": null,
   "id": "33b52ea5",
   "metadata": {},
   "outputs": [],
   "source": [
    "raw_df.shape"
   ]
  },
  {
   "cell_type": "markdown",
   "id": "f7b1d54a",
   "metadata": {},
   "source": [
    "After dropping some columns, let us extract categorical columns again from raw_df"
   ]
  },
  {
   "cell_type": "code",
   "execution_count": null,
   "id": "c8745d88",
   "metadata": {},
   "outputs": [],
   "source": [
    "raw_df = raw_df.drop(columns = ['sub_grade'])"
   ]
  },
  {
   "cell_type": "code",
   "execution_count": null,
   "id": "dde95b8c",
   "metadata": {},
   "outputs": [],
   "source": [
    "import re\n",
    "\n",
    "# Assuming raw_df is your original dataframe\n",
    "# Extracting Month and Year from earliest_cr_line\n",
    "raw_df['earliest_cr_line'] = pd.to_datetime(raw_df['earliest_cr_line'])\n",
    "raw_df['earliest_cr_line_month'] = raw_df['earliest_cr_line'].dt.month\n",
    "raw_df['earliest_cr_line_year'] = raw_df['earliest_cr_line'].dt.year\n",
    "\n",
    "# Extracting State Code from address\n",
    "state_pattern = r',\\s(\\w{2})\\s\\d+'\n",
    "state_extract = raw_df['address'].str.extract(state_pattern)\n",
    "raw_df['address_state_code'] = state_extract[0]\n",
    "\n",
    "# Extracting Month and Year from issue_d\n",
    "raw_df['issue_d'] = pd.to_datetime(raw_df['issue_d'])\n",
    "raw_df['issue_d_month'] = raw_df['issue_d'].dt.month\n",
    "raw_df['issue_d_year'] = raw_df['issue_d'].dt.year\n",
    "\n",
    "# Calculate Annual_Income/Loan Amount\n",
    "raw_df['annual_inc_loan_amnt_ratio'] = raw_df['annual_inc'] / raw_df['loan_amnt']\n",
    "\n",
    "# Calculate Annual_Income/Interest Rate\n",
    "raw_df['annual_inc_int_rate_ratio'] = raw_df['annual_inc'] / raw_df['int_rate']\n",
    "\n",
    "# Calculate Debt using dti and Annual_Income\n",
    "raw_df['debt'] = raw_df['dti'] * raw_df['annual_inc']\n",
    "\n",
    "# Display the updated dataframe\n",
    "print(raw_df.head())\n"
   ]
  },
  {
   "cell_type": "code",
   "execution_count": null,
   "id": "a4e3fc70",
   "metadata": {},
   "outputs": [],
   "source": [
    "columns_to_drop = ['address', 'earliest_cr_line', 'issue_d']\n",
    "raw_df.drop(columns=columns_to_drop, inplace=True)"
   ]
  },
  {
   "cell_type": "code",
   "execution_count": null,
   "id": "dfc9c8e5",
   "metadata": {},
   "outputs": [],
   "source": [
    "# Map 'Charged Off' to 0 and 'Fully Paid' to 1 in the 'loan_status' column\n",
    "raw_df['loan_status'] = raw_df['loan_status'].map({'Charged Off': 0, 'Fully Paid': 1})\n",
    "\n",
    "# Display the updated dataframe\n",
    "print(raw_df.head())"
   ]
  },
  {
   "cell_type": "code",
   "execution_count": null,
   "id": "f60d05c6",
   "metadata": {},
   "outputs": [],
   "source": [
    "categorical_df = raw_df.select_dtypes(\"object\")\n"
   ]
  },
  {
   "cell_type": "code",
   "execution_count": null,
   "id": "e11ea9da",
   "metadata": {},
   "outputs": [],
   "source": [
    "dummies_df = pd.get_dummies(categorical_df, drop_first=True)\n",
    "\n",
    "# Now, concatenate the numerical columns with the original dataframe\n",
    "\n",
    "processed_df = pd.concat([raw_df, dummies_df], axis=1)\n",
    "\n",
    "# Drop the original categorical columns if needed\n",
    "processed_df = processed_df.drop(categorical_df.columns, axis=1)\n",
    "\n",
    "\n",
    "\n",
    "# Now, processed_df contains the original numerical columns and the one-hot encoded categorical columns"
   ]
  },
  {
   "cell_type": "code",
   "execution_count": null,
   "id": "13a60db2",
   "metadata": {},
   "outputs": [],
   "source": [
    "raw_df.head()"
   ]
  },
  {
   "cell_type": "code",
   "execution_count": null,
   "id": "4fb91905",
   "metadata": {},
   "outputs": [],
   "source": [
    "processed_df.head()"
   ]
  },
  {
   "cell_type": "code",
   "execution_count": null,
   "id": "00200696",
   "metadata": {},
   "outputs": [],
   "source": [
    "processed_df = processed_df.drop(columns=[\"revol_bal\",\"installment\",\"revol_util\",\"open_acc\",\"grade_B\",\"grade_C\",\"grade_D\",\"grade_E\",\"purpose_moving\",\"purpose_other\",\"purpose_renewable_energy\",\"purpose_small_business\",\"purpose_vacation\",\"purpose_wedding\"])"
   ]
  },
  {
   "cell_type": "code",
   "execution_count": null,
   "id": "dc9e3baa",
   "metadata": {},
   "outputs": [],
   "source": [
    "processed_df = processed_df.drop(columns = [\"grade_F\",\"grade_G\",\"home_ownership_MORTGAGE\",\"home_ownership_NONE\",\"home_ownership_OTHER\",\"home_ownership_OWN\",\"home_ownership_RENT\",\"verification_status_Source Verified\",\"verification_status_Verified\",\"purpose_credit_card\",\"purpose_debt_consolidation\",\"purpose_educational\",\"purpose_home_improvement\",\"purpose_house\",\"purpose_major_purchase\",\"purpose_medical\",\"initial_list_status_w\"])"
   ]
  },
  {
   "cell_type": "code",
   "execution_count": null,
   "id": "8dcafc7a",
   "metadata": {},
   "outputs": [],
   "source": [
    "processed_df.shape"
   ]
  },
  {
   "cell_type": "code",
   "execution_count": null,
   "id": "ed5c8d8e",
   "metadata": {},
   "outputs": [],
   "source": [
    "from sklearn.model_selection import train_test_split\n",
    "from sklearn.preprocessing import StandardScaler\n",
    "\n",
    "\n",
    "\n",
    "# Select features (X) and target variable (y)\n",
    "X = processed_df.drop('loan_status', axis=1)  #  'loan_status' is target variable\n",
    "y = processed_df['loan_status']\n",
    "\n",
    "# Split the dataset into training and testing sets\n",
    "X_train, X_test, y_train, y_test = train_test_split(X, y, test_size=0.3, random_state=49)\n",
    "\n",
    "# Initialize StandardScaler\n",
    "scaler = StandardScaler()\n",
    "\n",
    "# Fit and transform all columns in training set\n",
    "X_train_scaled = scaler.fit_transform(X_train)\n",
    "\n",
    "# Transform all columns in testing set\n",
    "X_test_scaled = scaler.transform(X_test)\n",
    "\n",
    "# Convert the scaled arrays back to DataFrames with column names\n",
    "X_train_scaled = pd.DataFrame(X_train_scaled, columns=X_train.columns)\n",
    "X_test_scaled = pd.DataFrame(X_test_scaled, columns=X_test.columns)\n"
   ]
  },
  {
   "cell_type": "code",
   "execution_count": null,
   "id": "565e37d2",
   "metadata": {},
   "outputs": [],
   "source": [
    "processed_df.shape"
   ]
  },
  {
   "cell_type": "code",
   "execution_count": null,
   "id": "e5cb068b",
   "metadata": {},
   "outputs": [],
   "source": [
    "processed_df[processed_df['loan_status'] == 1].shape[0]/processed_df[['loan_status']].shape[0]"
   ]
  },
  {
   "cell_type": "code",
   "execution_count": null,
   "id": "20520846",
   "metadata": {},
   "outputs": [],
   "source": [
    "from sklearn.linear_model import LogisticRegression\n",
    "from sklearn.metrics import accuracy_score, classification_report\n",
    "\n",
    "\n",
    "# Initialize Logistic Regression model\n",
    "model = LogisticRegression(random_state=449)\n",
    "\n",
    "# Fit the model on the training set\n",
    "model.fit(X_train_scaled, y_train)\n",
    "\n",
    "# Make predictions on the testing set\n",
    "y_pred = model.predict(X_test_scaled)\n",
    "\n",
    "# Evaluate the model\n",
    "accuracy = accuracy_score(y_test, y_pred)\n",
    "classification_report_str = classification_report(y_test, y_pred)\n",
    "\n",
    "# Display the results\n",
    "print(f\"Accuracy: {accuracy:.4f}\")\n",
    "print(\"\\nClassification Report:\\n\", classification_report_str)"
   ]
  },
  {
   "cell_type": "markdown",
   "id": "f0a61651",
   "metadata": {},
   "source": [
    "accuracy: 0.8073\n",
    "\n",
    "Accuracy is the ratio of correctly predicted observations to the total observations.\n",
    "In this case, the model correctly predicts the class for approximately 80.73% of the instances.\n",
    "Precision, Recall, and F1-Score for Class 0 (Charged Off)\n",
    "\n",
    "Precision (Positive Predictive Value): 0.57\n",
    "Of all instances predicted as \"Charged Off,\" 57% were actually \"Charged Off.\"\n",
    "Recall (Sensitivity or True Positive Rate): 0.05\n",
    "Of all actual \"Charged Off\" instances, only 5% were correctly predicted.\n",
    "F1-Score: 0.10\n",
    "The harmonic mean of precision and recall."
   ]
  },
  {
   "cell_type": "code",
   "execution_count": null,
   "id": "3f6c6f89",
   "metadata": {},
   "outputs": [],
   "source": [
    "C_range = np.array([.00000001, .0000001, .000001, .00001, .0001, .001, .1,\n",
    "                   1, 10, 100, 1000, 10000, 100000, 1000000, 10000000, 100000000, 1000000000])\n",
    "\n",
    "# Lists to store training and testing scores\n",
    "train_scores = []\n",
    "test_scores = []\n",
    "\n",
    "# Iterate over different values of C\n",
    "for C_value in C_range:\n",
    "    my_logreg = LogisticRegression(C=C_value, random_state=1)\n",
    "\n",
    "    # Fit the model on the training set\n",
    "    my_logreg.fit(X_train_scaled, y_train)\n",
    "\n",
    "    # Append training and testing scores to the respective lists\n",
    "    train_scores.append(my_logreg.score(X_train_scaled, y_train))\n",
    "    test_scores.append(my_logreg.score(X_test_scaled, y_test))\n",
    "\n",
    "# Plotting results\n",
    "plt.figure()\n",
    "plt.plot(C_range, train_scores, label='Train Score', marker='.')\n",
    "plt.plot(C_range, test_scores, label='Test Score', marker='.')\n",
    "plt.xlabel('C')\n",
    "plt.ylabel('Accuracy')\n",
    "plt.xscale(\"log\")\n",
    "plt.grid()\n",
    "plt.legend()\n",
    "plt.show()"
   ]
  },
  {
   "cell_type": "markdown",
   "id": "efb5cffa",
   "metadata": {},
   "source": [
    "Accuracy: 0.8073\n",
    "\n",
    "Accuracy is the ratio of correctly predicted observations to the total observations.\n",
    "In this case, the model correctly predicts the class for approximately 80.73% of the instances.\n",
    "Precision, Recall, and F1-Score for Class 0 (Charged Off)\n",
    "\n",
    "Precision (Positive Predictive Value): 0.57\n",
    "Of all instances predicted as \"Charged Off,\" 57% were actually \"Charged Off.\"\n",
    "Recall (Sensitivity or True Positive Rate): 0.05\n",
    "Of all actual \"Charged Off\" instances, only 5% were correctly predicted.\n",
    "F1-Score: 0.10\n",
    "The harmonic mean of precision and recall."
   ]
  },
  {
   "cell_type": "code",
   "execution_count": null,
   "id": "fabd0693",
   "metadata": {},
   "outputs": [],
   "source": [
    "from sklearn.linear_model import LogisticRegression\n",
    "\n",
    "# Assuming X_train, y_train are your training data\n",
    "# Assuming class 0 is the minority class\n",
    "class_weights = {0: 2, 1: 1}  # You can adjust the weights based on the imbalance ratio\n",
    "\n",
    "model = LogisticRegression(class_weight=class_weights)\n",
    "model.fit(X_train_scaled, y_train)"
   ]
  },
  {
   "cell_type": "code",
   "execution_count": null,
   "id": "eb3ba854",
   "metadata": {},
   "outputs": [],
   "source": [
    "# Make predictions on the testing set\n",
    "y_pred = model.predict(X_test_scaled)\n",
    "\n",
    "# Evaluate the model\n",
    "accuracy = accuracy_score(y_test, y_pred)\n",
    "classification_report_str = classification_report(y_test, y_pred)\n",
    "\n",
    "# Display the results\n",
    "print(f\"Accuracy: {accuracy:.4f}\")\n",
    "print(\"\\nClassification Report:\\n\", classification_report_str)"
   ]
  },
  {
   "cell_type": "code",
   "execution_count": null,
   "id": "3a04f10a",
   "metadata": {},
   "outputs": [],
   "source": [
    "processed_df.head()"
   ]
  },
  {
   "cell_type": "code",
   "execution_count": null,
   "id": "5e5aee10",
   "metadata": {},
   "outputs": [],
   "source": [
    "X_train_scaled.head()"
   ]
  },
  {
   "cell_type": "code",
   "execution_count": null,
   "id": "988d5891",
   "metadata": {},
   "outputs": [],
   "source": [
    "from imblearn.over_sampling import SMOTE\n",
    "from sklearn.linear_model import LogisticRegression\n",
    "from sklearn.metrics import accuracy_score, classification_report\n",
    "\n",
    "# Create an instance of the SMOTE class with desired sampling strategy (50:50 balance)\n",
    "sampling_strategy = 1.0  # Adjust this to achieve a 50:50 balance\n",
    "smote = SMOTE(sampling_strategy=sampling_strategy, random_state=42)\n",
    "\n",
    "# Fit and apply SMOTE to the training data\n",
    "X_train_resampled, y_train_resampled = smote.fit_resample(X_train_scaled, y_train)\n",
    "X_test_resampled, y_test_resampled = smote.fit_resample(X_test_scaled, y_test)\n",
    "\n",
    "\n",
    "# Initialize Logistic Regression model\n",
    "model = LogisticRegression(random_state=449)\n",
    "\n",
    "# Fit the model on the resampled training set\n",
    "model.fit(X_train_resampled, y_train_resampled)\n",
    "\n",
    "# Make predictions on the testing set\n",
    "y_pred = model.predict(X_test_resampled)\n",
    "\n",
    "# Evaluate the model\n",
    "accuracy = accuracy_score(y_test_resampled, y_pred)\n",
    "classification_report_str = classification_report(y_test_resampled, y_pred)\n",
    "\n",
    "# Display the results\n",
    "print(f\"Accuracy: {accuracy:.4f}\")\n",
    "print(\"\\nClassification Report:\\n\", classification_report_str)"
   ]
  },
  {
   "cell_type": "code",
   "execution_count": null,
   "id": "85fa9f75",
   "metadata": {},
   "outputs": [],
   "source": [
    "C_range = np.array([.00000001, .0000001, .000001, .00001, .0001, .001, .1,\n",
    "                   1, 10, 100, 1000, 10000, 100000, 1000000, 10000000, 100000000, 1000000000])\n",
    "\n",
    "\n",
    "# Lists to store training and testing scores\n",
    "train_scores = []\n",
    "test_scores = []\n",
    "\n",
    "# Iterate over different values of C\n",
    "for C_value in C_range:\n",
    "    # Initialize Logistic Regression model with the current C value\n",
    "    model = LogisticRegression(C=C_value, random_state=1)\n",
    "\n",
    "    # Fit the model on the resampled training set\n",
    "    model.fit(X_train_resampled, y_train_resampled)\n",
    "\n",
    "     # Make predictions on the training set\n",
    "    y_train_pred = model.predict(X_train_resampled)\n",
    "    \n",
    "    # Make predictions on the testing set\n",
    "    y_pred = model.predict(X_test_resampled)\n",
    "\n",
    "    # Append testing scores to the respective list\n",
    "    train_scores.append(accuracy_score(y_train_resampled, y_train_pred))\n",
    "    test_scores.append(accuracy_score(y_test_resampled, y_pred))\n",
    "\n",
    "# Plotting results\n",
    "plt.figure()\n",
    "plt.plot(C_range, train_scores, label='Train Score', marker='.')\n",
    "plt.plot(C_range, test_scores, label='Test Score', marker='.')\n",
    "plt.xlabel('C (Log Scale)')\n",
    "plt.ylabel('Accuracy')\n",
    "plt.xscale(\"log\")\n",
    "plt.grid()\n",
    "plt.legend()\n",
    "plt.show()"
   ]
  },
  {
   "cell_type": "code",
   "execution_count": null,
   "id": "671d67f7",
   "metadata": {},
   "outputs": [],
   "source": []
  },
  {
   "cell_type": "code",
   "execution_count": null,
   "id": "34effe2a",
   "metadata": {},
   "outputs": [],
   "source": [
    "# Assuming 'y' is your output variable\n",
    "class_counts = np.bincount(y_train_resampled)\n",
    "class_0_count = class_counts[0]  # Count of class 0\n",
    "class_1_count = class_counts[1]  # Count of class 1\n",
    "\n",
    "print(f\"Percentage of Class 0 : {class_0_count * 100 /(class_0_count+class_1_count)}\")\n",
    "print(f\"Percentage of Class 1 : {class_1_count * 100 /(class_0_count+class_1_count)}\")"
   ]
  },
  {
   "cell_type": "code",
   "execution_count": null,
   "id": "1c1a5667",
   "metadata": {},
   "outputs": [],
   "source": [
    "# Initialize and train a Random Forest Classifier\n",
    "rf_classifier = RandomForestClassifier(random_state=42)\n",
    "rf_classifier.fit(X_train_resampled, y_train_resampled)\n",
    "\n",
    "# Make predictions on the testing set\n",
    "y_pred = rf_classifier.predict(X_test_scaled)\n",
    "\n",
    "# Evaluate the model\n",
    "accuracy = accuracy_score(y_test, y_pred)\n",
    "classification_report_str = classification_report(y_test, y_pred)\n",
    "\n",
    "# Display the results\n",
    "print(f\"Accuracy: {accuracy:.4f}\")\n",
    "print(\"\\nClassification Report:\\n\", classification_report_str)"
   ]
  },
  {
   "cell_type": "code",
   "execution_count": null,
   "id": "cdef6dd6",
   "metadata": {},
   "outputs": [],
   "source": [
    "from sklearn.ensemble import RandomForestClassifier\n",
    "import matplotlib.pyplot as plt\n",
    "import numpy as np\n",
    "\n",
    "# Lists to store training and testing scores\n",
    "train_scores = []\n",
    "test_scores = []\n",
    "\n",
    "n_estimators_range = [10, 50, 100, 150, 200, 250, 300, 350, 400, 450, 500]\n",
    "\n",
    "# Iterate over different values of n_estimators\n",
    "for n_estimators_value in n_estimators_range:\n",
    "    # Initialize Random Forest Classifier with the current n_estimators value\n",
    "    rf_classifier = RandomForestClassifier(n_estimators=n_estimators_value, random_state=42)\n",
    "    \n",
    "    # Fit the model on the training set\n",
    "    rf_classifier.fit(X_train_resampled, y_train_resampled)\n",
    "    \n",
    "    # Make predictions on the training set\n",
    "    y_train_pred = rf_classifier.predict(X_train_resampled)\n",
    "    \n",
    "    # Make predictions on the testing set\n",
    "    y_test_pred = rf_classifier.predict(X_test_scaled)\n",
    "    \n",
    "    # Append training and testing scores to the respective lists\n",
    "    train_scores.append(accuracy_score(y_train_resampled, y_train_pred))\n",
    "    test_scores.append(accuracy_score(y_test, y_test_pred))\n",
    "\n",
    "# Plotting results\n",
    "plt.figure()\n",
    "plt.plot(n_estimators_range, train_scores, label='Train Score', marker='.')\n",
    "plt.plot(n_estimators_range, test_scores, label='Test Score', marker='.')\n",
    "plt.xlabel('Number of Trees (n_estimators)')\n",
    "plt.ylabel('Accuracy')\n",
    "plt.grid()\n",
    "plt.legend()\n",
    "plt.show()\n"
   ]
  },
  {
   "cell_type": "code",
   "execution_count": null,
   "id": "064254f9",
   "metadata": {},
   "outputs": [],
   "source": [
    "print(\"hello 12:01\")"
   ]
  },
  {
   "cell_type": "code",
   "execution_count": null,
   "id": "253e9611",
   "metadata": {},
   "outputs": [],
   "source": []
  }
 ],
 "metadata": {
  "kernelspec": {
   "display_name": "basicpythonkernel",
   "language": "python",
   "name": "basicpythonkernel"
  },
  "language_info": {
   "codemirror_mode": {
    "name": "ipython",
    "version": 3
   },
   "file_extension": ".py",
   "mimetype": "text/x-python",
   "name": "python",
   "nbconvert_exporter": "python",
   "pygments_lexer": "ipython3",
   "version": "3.9.18"
  },
  "toc": {
   "base_numbering": 1,
   "nav_menu": {},
   "number_sections": true,
   "sideBar": true,
   "skip_h1_title": false,
   "title_cell": "Table of Contents",
   "title_sidebar": "Contents",
   "toc_cell": false,
   "toc_position": {},
   "toc_section_display": true,
   "toc_window_display": false
  }
 },
 "nbformat": 4,
 "nbformat_minor": 5
}
