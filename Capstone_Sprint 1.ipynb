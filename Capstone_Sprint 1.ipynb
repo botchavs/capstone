{
 "cells": [
  {
   "cell_type": "markdown",
   "id": "167661e7",
   "metadata": {},
   "source": [
    "# Capstone Project - Data Science @ BrainStation\n",
    "\n",
    "##  Introduction\n",
    "\n",
    "This Jupiter notebook forms the core component of my Capstone project under the Data Science Diploma Program at BrainStation, Vancouver. In this notebook, we use base Python together with some of the widely used libraries to investigate, analyse a dataset sourced from loan data released by Lending Club, a US-based peer-to-peer lender. At it's peak, Lending club was largest P2P lender in the world with assets of ~16 billion USD. The dataset contains the features of various loans extended by Lending Club spanning from 2007 and 2018 and the corresponding details of the borrowers, who had availed the loan. The key detail of the loan captured in the dataset is 'loan_status', which has two values 'Fully Paid' or 'Charged Off', which means all these loans have been closed and there are no running loans in this dataset.\n",
    "\n",
    "The dataset was obtained from [Kaggle](https://www.kaggle.com/datasets/jeandedieunyandwi/lending-club-dataset/code?datasetId=608703&sortBy=voteCount).\n",
    "\n",
    "In this note, I will be demonstrating how to perform EDA, visualise data, and apply some machine learning techniques to solves problem of prediction.\n"
   ]
  },
  {
   "cell_type": "markdown",
   "id": "64e11c3b",
   "metadata": {},
   "source": [
    "### Data Dictionary\n",
    "\n",
    "| S.No | Column Name           | Description                                                                                                 |\n",
    "|------|-----------------------|-------------------------------------------------------------------------------------------------------------|\n",
    "| 0    | loan_amount           | The listed amount of the loan in USD applied for by the borrower. If at some point in time, the credit department reduces the loan amount, then it will be reflected in this value.|\n",
    "| 1    | term                  | The number of payments on the loan. Values are in months and can be either 36 or 60.                          |\n",
    "| 2    | int_rate              | Interest Rate on the loan                                                                                    |\n",
    "| 3    | installment           | The monthly payment owed by the borrower if the loan originates.                                            |\n",
    "| 4    | grade                 | LC assigned loan grade                                                                                      |\n",
    "| 5    | sub_grade             | LC assigned loan subgrade                                                                                   |\n",
    "| 6    | emp_title             | The job title supplied by the Borrower when applying for the loan.*                                           |\n",
    "| 7    | emp_length            | Employment length in years. Possible values are between 0 and 10 where 0 means less than one year and 10 means ten or more years.|\n",
    "| 8    | home_ownership        | The homeownership status provided by the borrower during registration or obtained from the credit report. Our values are: RENT, OWN, MORTGAGE, OTHER|\n",
    "| 9    | annual_inc            | The self-reported annual income provided by the borrower during registration.                                 |\n",
    "| 10   | verification_status   | Indicates if income was verified by LC, not verified, or if the income source was verified                    |\n",
    "| 11   | issue_d               | The month which the loan was funded                                                                         |\n",
    "| 12   | loan_status           | Current status of the loan                                                                                 |\n",
    "| 13   | purpose               | A category provided by the borrower for the loan request.                                                   |\n",
    "| 14   | title                 | The loan title provided by the borrower                                                                    |\n",
    "| 15   | zip_code              | The first 3 numbers of the zip code provided by the borrower in the loan application.                         |\n",
    "| 16   | addr_state            | The state provided by the borrower in the loan application                                                  |\n",
    "| 17   | dti                   | A ratio calculated using the borrower’s total monthly debt payments on the total debt obligations, excluding mortgage and the requested LC loan, divided by the borrower’s self-reported monthly income.|\n",
    "| 18   | earliest_cr_line      | The month the borrower's earliest reported credit line was opened                                            |\n",
    "| 19   | open_acc              | The number of open credit lines in the borrower's credit file.                                               |\n",
    "| 20   | pub_rec               | Number of derogatory public records                                                                        |\n",
    "| 21   | revol_bal             | Total credit revolving balance                                                                             |\n",
    "| 22   | revol_util            | Revolving line utilization rate, or the amount of credit the borrower is using relative to all available revolving credit.|\n",
    "| 23   | total_acc             | The total number of credit lines currently in the borrower's credit file                                     |\n",
    "| 24   | initial_list_status   | The initial listing status of the loan. Possible values are – W, F. W stands for Whole loan and F stands for fractional.                                           |\n",
    "| 25   | application_type      | Indicates whether the loan is an individual application or a joint application with two co-borrowers         |\n",
    "| 26   | mort_acc              | Number of mortgage accounts.                                                                               |\n",
    "| 27   | pub_rec_bankruptcies  | Number of public record bankruptcies "
   ]
  },
  {
   "cell_type": "code",
   "execution_count": 73,
   "id": "eab384e7",
   "metadata": {},
   "outputs": [],
   "source": [
    "import numpy as np # Linear alzebra\n",
    "import pandas as pd # Data manipulation\n",
    "\n",
    "# Data Visualisation\n",
    "import matplotlib.pyplot as plt\n",
    "import seaborn as sns\n",
    "import plotly.express as px"
   ]
  },
  {
   "cell_type": "code",
   "execution_count": 74,
   "id": "ea5518f7",
   "metadata": {},
   "outputs": [],
   "source": [
    "raw_df = pd.read_csv(\"lending_club_loan_two.csv\")"
   ]
  },
  {
   "cell_type": "code",
   "execution_count": 75,
   "id": "3b371942",
   "metadata": {},
   "outputs": [
    {
     "data": {
      "text/html": [
       "<div>\n",
       "<style scoped>\n",
       "    .dataframe tbody tr th:only-of-type {\n",
       "        vertical-align: middle;\n",
       "    }\n",
       "\n",
       "    .dataframe tbody tr th {\n",
       "        vertical-align: top;\n",
       "    }\n",
       "\n",
       "    .dataframe thead th {\n",
       "        text-align: right;\n",
       "    }\n",
       "</style>\n",
       "<table border=\"1\" class=\"dataframe\">\n",
       "  <thead>\n",
       "    <tr style=\"text-align: right;\">\n",
       "      <th></th>\n",
       "      <th>loan_amnt</th>\n",
       "      <th>term</th>\n",
       "      <th>int_rate</th>\n",
       "      <th>installment</th>\n",
       "      <th>grade</th>\n",
       "      <th>sub_grade</th>\n",
       "      <th>emp_title</th>\n",
       "      <th>emp_length</th>\n",
       "      <th>home_ownership</th>\n",
       "      <th>annual_inc</th>\n",
       "      <th>...</th>\n",
       "      <th>open_acc</th>\n",
       "      <th>pub_rec</th>\n",
       "      <th>revol_bal</th>\n",
       "      <th>revol_util</th>\n",
       "      <th>total_acc</th>\n",
       "      <th>initial_list_status</th>\n",
       "      <th>application_type</th>\n",
       "      <th>mort_acc</th>\n",
       "      <th>pub_rec_bankruptcies</th>\n",
       "      <th>address</th>\n",
       "    </tr>\n",
       "  </thead>\n",
       "  <tbody>\n",
       "    <tr>\n",
       "      <th>0</th>\n",
       "      <td>10000.0</td>\n",
       "      <td>36 months</td>\n",
       "      <td>11.44</td>\n",
       "      <td>329.48</td>\n",
       "      <td>B</td>\n",
       "      <td>B4</td>\n",
       "      <td>Marketing</td>\n",
       "      <td>10+ years</td>\n",
       "      <td>RENT</td>\n",
       "      <td>117000.0</td>\n",
       "      <td>...</td>\n",
       "      <td>16.0</td>\n",
       "      <td>0.0</td>\n",
       "      <td>36369.0</td>\n",
       "      <td>41.8</td>\n",
       "      <td>25.0</td>\n",
       "      <td>w</td>\n",
       "      <td>INDIVIDUAL</td>\n",
       "      <td>0.0</td>\n",
       "      <td>0.0</td>\n",
       "      <td>0174 Michelle Gateway\\r\\nMendozaberg, OK 22690</td>\n",
       "    </tr>\n",
       "    <tr>\n",
       "      <th>1</th>\n",
       "      <td>8000.0</td>\n",
       "      <td>36 months</td>\n",
       "      <td>11.99</td>\n",
       "      <td>265.68</td>\n",
       "      <td>B</td>\n",
       "      <td>B5</td>\n",
       "      <td>Credit analyst</td>\n",
       "      <td>4 years</td>\n",
       "      <td>MORTGAGE</td>\n",
       "      <td>65000.0</td>\n",
       "      <td>...</td>\n",
       "      <td>17.0</td>\n",
       "      <td>0.0</td>\n",
       "      <td>20131.0</td>\n",
       "      <td>53.3</td>\n",
       "      <td>27.0</td>\n",
       "      <td>f</td>\n",
       "      <td>INDIVIDUAL</td>\n",
       "      <td>3.0</td>\n",
       "      <td>0.0</td>\n",
       "      <td>1076 Carney Fort Apt. 347\\r\\nLoganmouth, SD 05113</td>\n",
       "    </tr>\n",
       "    <tr>\n",
       "      <th>2</th>\n",
       "      <td>15600.0</td>\n",
       "      <td>36 months</td>\n",
       "      <td>10.49</td>\n",
       "      <td>506.97</td>\n",
       "      <td>B</td>\n",
       "      <td>B3</td>\n",
       "      <td>Statistician</td>\n",
       "      <td>&lt; 1 year</td>\n",
       "      <td>RENT</td>\n",
       "      <td>43057.0</td>\n",
       "      <td>...</td>\n",
       "      <td>13.0</td>\n",
       "      <td>0.0</td>\n",
       "      <td>11987.0</td>\n",
       "      <td>92.2</td>\n",
       "      <td>26.0</td>\n",
       "      <td>f</td>\n",
       "      <td>INDIVIDUAL</td>\n",
       "      <td>0.0</td>\n",
       "      <td>0.0</td>\n",
       "      <td>87025 Mark Dale Apt. 269\\r\\nNew Sabrina, WV 05113</td>\n",
       "    </tr>\n",
       "    <tr>\n",
       "      <th>3</th>\n",
       "      <td>7200.0</td>\n",
       "      <td>36 months</td>\n",
       "      <td>6.49</td>\n",
       "      <td>220.65</td>\n",
       "      <td>A</td>\n",
       "      <td>A2</td>\n",
       "      <td>Client Advocate</td>\n",
       "      <td>6 years</td>\n",
       "      <td>RENT</td>\n",
       "      <td>54000.0</td>\n",
       "      <td>...</td>\n",
       "      <td>6.0</td>\n",
       "      <td>0.0</td>\n",
       "      <td>5472.0</td>\n",
       "      <td>21.5</td>\n",
       "      <td>13.0</td>\n",
       "      <td>f</td>\n",
       "      <td>INDIVIDUAL</td>\n",
       "      <td>0.0</td>\n",
       "      <td>0.0</td>\n",
       "      <td>823 Reid Ford\\r\\nDelacruzside, MA 00813</td>\n",
       "    </tr>\n",
       "    <tr>\n",
       "      <th>4</th>\n",
       "      <td>24375.0</td>\n",
       "      <td>60 months</td>\n",
       "      <td>17.27</td>\n",
       "      <td>609.33</td>\n",
       "      <td>C</td>\n",
       "      <td>C5</td>\n",
       "      <td>Destiny Management Inc.</td>\n",
       "      <td>9 years</td>\n",
       "      <td>MORTGAGE</td>\n",
       "      <td>55000.0</td>\n",
       "      <td>...</td>\n",
       "      <td>13.0</td>\n",
       "      <td>0.0</td>\n",
       "      <td>24584.0</td>\n",
       "      <td>69.8</td>\n",
       "      <td>43.0</td>\n",
       "      <td>f</td>\n",
       "      <td>INDIVIDUAL</td>\n",
       "      <td>1.0</td>\n",
       "      <td>0.0</td>\n",
       "      <td>679 Luna Roads\\r\\nGreggshire, VA 11650</td>\n",
       "    </tr>\n",
       "  </tbody>\n",
       "</table>\n",
       "<p>5 rows × 27 columns</p>\n",
       "</div>"
      ],
      "text/plain": [
       "   loan_amnt        term  int_rate  installment grade sub_grade  \\\n",
       "0    10000.0   36 months     11.44       329.48     B        B4   \n",
       "1     8000.0   36 months     11.99       265.68     B        B5   \n",
       "2    15600.0   36 months     10.49       506.97     B        B3   \n",
       "3     7200.0   36 months      6.49       220.65     A        A2   \n",
       "4    24375.0   60 months     17.27       609.33     C        C5   \n",
       "\n",
       "                 emp_title emp_length home_ownership  annual_inc  ...  \\\n",
       "0                Marketing  10+ years           RENT    117000.0  ...   \n",
       "1          Credit analyst     4 years       MORTGAGE     65000.0  ...   \n",
       "2             Statistician   < 1 year           RENT     43057.0  ...   \n",
       "3          Client Advocate    6 years           RENT     54000.0  ...   \n",
       "4  Destiny Management Inc.    9 years       MORTGAGE     55000.0  ...   \n",
       "\n",
       "  open_acc pub_rec revol_bal revol_util total_acc  initial_list_status  \\\n",
       "0     16.0     0.0   36369.0       41.8      25.0                    w   \n",
       "1     17.0     0.0   20131.0       53.3      27.0                    f   \n",
       "2     13.0     0.0   11987.0       92.2      26.0                    f   \n",
       "3      6.0     0.0    5472.0       21.5      13.0                    f   \n",
       "4     13.0     0.0   24584.0       69.8      43.0                    f   \n",
       "\n",
       "  application_type  mort_acc  pub_rec_bankruptcies  \\\n",
       "0       INDIVIDUAL       0.0                   0.0   \n",
       "1       INDIVIDUAL       3.0                   0.0   \n",
       "2       INDIVIDUAL       0.0                   0.0   \n",
       "3       INDIVIDUAL       0.0                   0.0   \n",
       "4       INDIVIDUAL       1.0                   0.0   \n",
       "\n",
       "                                             address  \n",
       "0     0174 Michelle Gateway\\r\\nMendozaberg, OK 22690  \n",
       "1  1076 Carney Fort Apt. 347\\r\\nLoganmouth, SD 05113  \n",
       "2  87025 Mark Dale Apt. 269\\r\\nNew Sabrina, WV 05113  \n",
       "3            823 Reid Ford\\r\\nDelacruzside, MA 00813  \n",
       "4             679 Luna Roads\\r\\nGreggshire, VA 11650  \n",
       "\n",
       "[5 rows x 27 columns]"
      ]
     },
     "execution_count": 75,
     "metadata": {},
     "output_type": "execute_result"
    }
   ],
   "source": [
    "raw_df.head()"
   ]
  },
  {
   "cell_type": "code",
   "execution_count": 76,
   "id": "5e54d027",
   "metadata": {},
   "outputs": [
    {
     "name": "stdout",
     "output_type": "stream",
     "text": [
      "<class 'pandas.core.frame.DataFrame'>\n",
      "RangeIndex: 396030 entries, 0 to 396029\n",
      "Data columns (total 27 columns):\n",
      " #   Column                Non-Null Count   Dtype  \n",
      "---  ------                --------------   -----  \n",
      " 0   loan_amnt             396030 non-null  float64\n",
      " 1   term                  396030 non-null  object \n",
      " 2   int_rate              396030 non-null  float64\n",
      " 3   installment           396030 non-null  float64\n",
      " 4   grade                 396030 non-null  object \n",
      " 5   sub_grade             396030 non-null  object \n",
      " 6   emp_title             373103 non-null  object \n",
      " 7   emp_length            377729 non-null  object \n",
      " 8   home_ownership        396030 non-null  object \n",
      " 9   annual_inc            396030 non-null  float64\n",
      " 10  verification_status   396030 non-null  object \n",
      " 11  issue_d               396030 non-null  object \n",
      " 12  loan_status           396030 non-null  object \n",
      " 13  purpose               396030 non-null  object \n",
      " 14  title                 394275 non-null  object \n",
      " 15  dti                   396030 non-null  float64\n",
      " 16  earliest_cr_line      396030 non-null  object \n",
      " 17  open_acc              396030 non-null  float64\n",
      " 18  pub_rec               396030 non-null  float64\n",
      " 19  revol_bal             396030 non-null  float64\n",
      " 20  revol_util            395754 non-null  float64\n",
      " 21  total_acc             396030 non-null  float64\n",
      " 22  initial_list_status   396030 non-null  object \n",
      " 23  application_type      396030 non-null  object \n",
      " 24  mort_acc              358235 non-null  float64\n",
      " 25  pub_rec_bankruptcies  395495 non-null  float64\n",
      " 26  address               396030 non-null  object \n",
      "dtypes: float64(12), object(15)\n",
      "memory usage: 81.6+ MB\n"
     ]
    }
   ],
   "source": [
    "raw_df.info()"
   ]
  },
  {
   "cell_type": "markdown",
   "id": "bacb0187",
   "metadata": {},
   "source": [
    "**Datatypes:** Column 'Term' could transformed from object to numeric.\n",
    "\n",
    "**Extraction of Data from existing columns**: We could extract multiple columns from date column (month and year) and address column (city,state)\n",
    "\n"
   ]
  },
  {
   "cell_type": "code",
   "execution_count": 77,
   "id": "3c8c2274",
   "metadata": {},
   "outputs": [
    {
     "data": {
      "text/plain": [
       "0         Jan-2015\n",
       "1         Jan-2015\n",
       "2         Jan-2015\n",
       "3         Nov-2014\n",
       "4         Apr-2013\n",
       "            ...   \n",
       "396025    Oct-2015\n",
       "396026    Feb-2015\n",
       "396027    Oct-2013\n",
       "396028    Aug-2012\n",
       "396029    Jun-2010\n",
       "Name: issue_d, Length: 396030, dtype: object"
      ]
     },
     "execution_count": 77,
     "metadata": {},
     "output_type": "execute_result"
    }
   ],
   "source": [
    "raw_df['issue_d']"
   ]
  },
  {
   "cell_type": "code",
   "execution_count": 78,
   "id": "d45a3e18",
   "metadata": {},
   "outputs": [
    {
     "data": {
      "text/html": [
       "<div>\n",
       "<style scoped>\n",
       "    .dataframe tbody tr th:only-of-type {\n",
       "        vertical-align: middle;\n",
       "    }\n",
       "\n",
       "    .dataframe tbody tr th {\n",
       "        vertical-align: top;\n",
       "    }\n",
       "\n",
       "    .dataframe thead th {\n",
       "        text-align: right;\n",
       "    }\n",
       "</style>\n",
       "<table border=\"1\" class=\"dataframe\">\n",
       "  <thead>\n",
       "    <tr style=\"text-align: right;\">\n",
       "      <th></th>\n",
       "      <th>loan_amnt</th>\n",
       "      <th>int_rate</th>\n",
       "      <th>installment</th>\n",
       "      <th>annual_inc</th>\n",
       "      <th>dti</th>\n",
       "      <th>open_acc</th>\n",
       "      <th>pub_rec</th>\n",
       "      <th>revol_bal</th>\n",
       "      <th>revol_util</th>\n",
       "      <th>total_acc</th>\n",
       "      <th>mort_acc</th>\n",
       "      <th>pub_rec_bankruptcies</th>\n",
       "    </tr>\n",
       "  </thead>\n",
       "  <tbody>\n",
       "    <tr>\n",
       "      <th>count</th>\n",
       "      <td>396030.000000</td>\n",
       "      <td>396030.000000</td>\n",
       "      <td>396030.000000</td>\n",
       "      <td>3.960300e+05</td>\n",
       "      <td>396030.000000</td>\n",
       "      <td>396030.000000</td>\n",
       "      <td>396030.000000</td>\n",
       "      <td>3.960300e+05</td>\n",
       "      <td>395754.000000</td>\n",
       "      <td>396030.000000</td>\n",
       "      <td>358235.000000</td>\n",
       "      <td>395495.000000</td>\n",
       "    </tr>\n",
       "    <tr>\n",
       "      <th>mean</th>\n",
       "      <td>14113.888089</td>\n",
       "      <td>13.639400</td>\n",
       "      <td>431.849698</td>\n",
       "      <td>7.420318e+04</td>\n",
       "      <td>17.379514</td>\n",
       "      <td>11.311153</td>\n",
       "      <td>0.178191</td>\n",
       "      <td>1.584454e+04</td>\n",
       "      <td>53.791749</td>\n",
       "      <td>25.414744</td>\n",
       "      <td>1.813991</td>\n",
       "      <td>0.121648</td>\n",
       "    </tr>\n",
       "    <tr>\n",
       "      <th>std</th>\n",
       "      <td>8357.441341</td>\n",
       "      <td>4.472157</td>\n",
       "      <td>250.727790</td>\n",
       "      <td>6.163762e+04</td>\n",
       "      <td>18.019092</td>\n",
       "      <td>5.137649</td>\n",
       "      <td>0.530671</td>\n",
       "      <td>2.059184e+04</td>\n",
       "      <td>24.452193</td>\n",
       "      <td>11.886991</td>\n",
       "      <td>2.147930</td>\n",
       "      <td>0.356174</td>\n",
       "    </tr>\n",
       "    <tr>\n",
       "      <th>min</th>\n",
       "      <td>500.000000</td>\n",
       "      <td>5.320000</td>\n",
       "      <td>16.080000</td>\n",
       "      <td>0.000000e+00</td>\n",
       "      <td>0.000000</td>\n",
       "      <td>0.000000</td>\n",
       "      <td>0.000000</td>\n",
       "      <td>0.000000e+00</td>\n",
       "      <td>0.000000</td>\n",
       "      <td>2.000000</td>\n",
       "      <td>0.000000</td>\n",
       "      <td>0.000000</td>\n",
       "    </tr>\n",
       "    <tr>\n",
       "      <th>25%</th>\n",
       "      <td>8000.000000</td>\n",
       "      <td>10.490000</td>\n",
       "      <td>250.330000</td>\n",
       "      <td>4.500000e+04</td>\n",
       "      <td>11.280000</td>\n",
       "      <td>8.000000</td>\n",
       "      <td>0.000000</td>\n",
       "      <td>6.025000e+03</td>\n",
       "      <td>35.800000</td>\n",
       "      <td>17.000000</td>\n",
       "      <td>0.000000</td>\n",
       "      <td>0.000000</td>\n",
       "    </tr>\n",
       "    <tr>\n",
       "      <th>50%</th>\n",
       "      <td>12000.000000</td>\n",
       "      <td>13.330000</td>\n",
       "      <td>375.430000</td>\n",
       "      <td>6.400000e+04</td>\n",
       "      <td>16.910000</td>\n",
       "      <td>10.000000</td>\n",
       "      <td>0.000000</td>\n",
       "      <td>1.118100e+04</td>\n",
       "      <td>54.800000</td>\n",
       "      <td>24.000000</td>\n",
       "      <td>1.000000</td>\n",
       "      <td>0.000000</td>\n",
       "    </tr>\n",
       "    <tr>\n",
       "      <th>75%</th>\n",
       "      <td>20000.000000</td>\n",
       "      <td>16.490000</td>\n",
       "      <td>567.300000</td>\n",
       "      <td>9.000000e+04</td>\n",
       "      <td>22.980000</td>\n",
       "      <td>14.000000</td>\n",
       "      <td>0.000000</td>\n",
       "      <td>1.962000e+04</td>\n",
       "      <td>72.900000</td>\n",
       "      <td>32.000000</td>\n",
       "      <td>3.000000</td>\n",
       "      <td>0.000000</td>\n",
       "    </tr>\n",
       "    <tr>\n",
       "      <th>max</th>\n",
       "      <td>40000.000000</td>\n",
       "      <td>30.990000</td>\n",
       "      <td>1533.810000</td>\n",
       "      <td>8.706582e+06</td>\n",
       "      <td>9999.000000</td>\n",
       "      <td>90.000000</td>\n",
       "      <td>86.000000</td>\n",
       "      <td>1.743266e+06</td>\n",
       "      <td>892.300000</td>\n",
       "      <td>151.000000</td>\n",
       "      <td>34.000000</td>\n",
       "      <td>8.000000</td>\n",
       "    </tr>\n",
       "  </tbody>\n",
       "</table>\n",
       "</div>"
      ],
      "text/plain": [
       "           loan_amnt       int_rate    installment    annual_inc  \\\n",
       "count  396030.000000  396030.000000  396030.000000  3.960300e+05   \n",
       "mean    14113.888089      13.639400     431.849698  7.420318e+04   \n",
       "std      8357.441341       4.472157     250.727790  6.163762e+04   \n",
       "min       500.000000       5.320000      16.080000  0.000000e+00   \n",
       "25%      8000.000000      10.490000     250.330000  4.500000e+04   \n",
       "50%     12000.000000      13.330000     375.430000  6.400000e+04   \n",
       "75%     20000.000000      16.490000     567.300000  9.000000e+04   \n",
       "max     40000.000000      30.990000    1533.810000  8.706582e+06   \n",
       "\n",
       "                 dti       open_acc        pub_rec     revol_bal  \\\n",
       "count  396030.000000  396030.000000  396030.000000  3.960300e+05   \n",
       "mean       17.379514      11.311153       0.178191  1.584454e+04   \n",
       "std        18.019092       5.137649       0.530671  2.059184e+04   \n",
       "min         0.000000       0.000000       0.000000  0.000000e+00   \n",
       "25%        11.280000       8.000000       0.000000  6.025000e+03   \n",
       "50%        16.910000      10.000000       0.000000  1.118100e+04   \n",
       "75%        22.980000      14.000000       0.000000  1.962000e+04   \n",
       "max      9999.000000      90.000000      86.000000  1.743266e+06   \n",
       "\n",
       "          revol_util      total_acc       mort_acc  pub_rec_bankruptcies  \n",
       "count  395754.000000  396030.000000  358235.000000         395495.000000  \n",
       "mean       53.791749      25.414744       1.813991              0.121648  \n",
       "std        24.452193      11.886991       2.147930              0.356174  \n",
       "min         0.000000       2.000000       0.000000              0.000000  \n",
       "25%        35.800000      17.000000       0.000000              0.000000  \n",
       "50%        54.800000      24.000000       1.000000              0.000000  \n",
       "75%        72.900000      32.000000       3.000000              0.000000  \n",
       "max       892.300000     151.000000      34.000000              8.000000  "
      ]
     },
     "execution_count": 78,
     "metadata": {},
     "output_type": "execute_result"
    }
   ],
   "source": [
    "raw_df.describe()"
   ]
  },
  {
   "cell_type": "markdown",
   "id": "fdbc98dd",
   "metadata": {},
   "source": [
    "1. **loan_amount** The average loan is 14111 USD. Min loan amount is 500 USD and max is 40,000 USD\n",
    "2. **int_rate**\tThe interest rate on an average is 13.63%"
   ]
  },
  {
   "cell_type": "code",
   "execution_count": 79,
   "id": "de97bd5f",
   "metadata": {},
   "outputs": [
    {
     "data": {
      "text/plain": [
       "(396030, 27)"
      ]
     },
     "execution_count": 79,
     "metadata": {},
     "output_type": "execute_result"
    }
   ],
   "source": [
    "raw_df.shape # Checking for number of rows and columns"
   ]
  },
  {
   "cell_type": "markdown",
   "id": "91a0f945",
   "metadata": {},
   "source": [
    "There are 396k rows with 27 columns in this dataset"
   ]
  },
  {
   "cell_type": "code",
   "execution_count": 80,
   "id": "6bfbeed5",
   "metadata": {},
   "outputs": [
    {
     "data": {
      "text/plain": [
       "loan_amnt                   0\n",
       "term                        0\n",
       "int_rate                    0\n",
       "installment                 0\n",
       "grade                       0\n",
       "sub_grade                   0\n",
       "emp_title               22927\n",
       "emp_length              18301\n",
       "home_ownership              0\n",
       "annual_inc                  0\n",
       "verification_status         0\n",
       "issue_d                     0\n",
       "loan_status                 0\n",
       "purpose                     0\n",
       "title                    1755\n",
       "dti                         0\n",
       "earliest_cr_line            0\n",
       "open_acc                    0\n",
       "pub_rec                     0\n",
       "revol_bal                   0\n",
       "revol_util                276\n",
       "total_acc                   0\n",
       "initial_list_status         0\n",
       "application_type            0\n",
       "mort_acc                37795\n",
       "pub_rec_bankruptcies      535\n",
       "address                     0\n",
       "dtype: int64"
      ]
     },
     "execution_count": 80,
     "metadata": {},
     "output_type": "execute_result"
    }
   ],
   "source": [
    "# Checking for null values\n",
    "raw_df.isna().sum()"
   ]
  },
  {
   "cell_type": "markdown",
   "id": "50c26603",
   "metadata": {},
   "source": [
    "There are null values in columns emp_title, emp_length, title, revol_util, mort_acc, pub_rec_bankruptcies. Null values to be handled subsequently. "
   ]
  },
  {
   "cell_type": "code",
   "execution_count": 81,
   "id": "ab0664f1",
   "metadata": {},
   "outputs": [
    {
     "data": {
      "text/plain": [
       "0"
      ]
     },
     "execution_count": 81,
     "metadata": {},
     "output_type": "execute_result"
    }
   ],
   "source": [
    "raw_df.duplicated().sum() # checking for duplicate rows"
   ]
  },
  {
   "cell_type": "markdown",
   "id": "eee29017",
   "metadata": {},
   "source": [
    "There are no duplicates rows in the dataset."
   ]
  },
  {
   "cell_type": "code",
   "execution_count": 82,
   "id": "5b81d548",
   "metadata": {},
   "outputs": [],
   "source": [
    "#raw_df.T # checking for duplicate columns"
   ]
  },
  {
   "cell_type": "code",
   "execution_count": 83,
   "id": "0046f542",
   "metadata": {},
   "outputs": [
    {
     "data": {
      "text/plain": [
       "Teacher                     4389\n",
       "Manager                     4250\n",
       "Registered Nurse            1856\n",
       "RN                          1846\n",
       "Supervisor                  1830\n",
       "Sales                       1638\n",
       "Project Manager             1505\n",
       "Owner                       1410\n",
       "Driver                      1339\n",
       "Office Manager              1218\n",
       "manager                     1145\n",
       "Director                    1089\n",
       "General Manager             1074\n",
       "Engineer                     995\n",
       "teacher                      962\n",
       "driver                       882\n",
       "Vice President               857\n",
       "Operations Manager           763\n",
       "Administrative Assistant     756\n",
       "Accountant                   748\n",
       "Name: emp_title, dtype: int64"
      ]
     },
     "execution_count": 83,
     "metadata": {},
     "output_type": "execute_result"
    }
   ],
   "source": [
    "# Checking to see top 20 most occuring values in column 'emp_title'\n",
    "raw_df['emp_title'].value_counts()[0:20]"
   ]
  },
  {
   "cell_type": "code",
   "execution_count": 84,
   "id": "f7e0b5af",
   "metadata": {},
   "outputs": [],
   "source": [
    "#raw_df['emp_title'].value_counts().plot(kind = 'barh')\n",
    "#plt.show()"
   ]
  },
  {
   "cell_type": "code",
   "execution_count": 85,
   "id": "e24eba17",
   "metadata": {},
   "outputs": [
    {
     "data": {
      "text/plain": [
       "46.4"
      ]
     },
     "execution_count": 85,
     "metadata": {},
     "output_type": "execute_result"
    }
   ],
   "source": [
    "(raw_df['emp_title'].nunique()*100/raw_df['emp_title'].count()).round(1)"
   ]
  },
  {
   "cell_type": "markdown",
   "id": "896cd088",
   "metadata": {},
   "source": [
    "46.39% of values in the columns are unique values. Since there are way too many number of uniques values of employment titles, we may have to drop the columns, as it becomes difficult to 'groupby' categories."
   ]
  },
  {
   "cell_type": "markdown",
   "id": "99eb76c3",
   "metadata": {},
   "source": [
    "The top 10 most freuquent categories of employee titles form only 5.7% of the total count of titles.  Had the most frequent values constituted a good portion of the dataset, we could have filled have classified the remaining values as 'other'"
   ]
  },
  {
   "cell_type": "code",
   "execution_count": 86,
   "id": "665b318b",
   "metadata": {},
   "outputs": [
    {
     "data": {
      "text/plain": [
       "array(['10+ years', '4 years', '< 1 year', '6 years', '9 years',\n",
       "       '2 years', '3 years', '8 years', '7 years', '5 years', '1 year',\n",
       "       nan], dtype=object)"
      ]
     },
     "execution_count": 86,
     "metadata": {},
     "output_type": "execute_result"
    }
   ],
   "source": [
    "raw_df['emp_length'].unique() "
   ]
  },
  {
   "cell_type": "markdown",
   "id": "fc3fb05b",
   "metadata": {},
   "source": [
    "We need to further explore on how to handle missing values in employment length."
   ]
  },
  {
   "cell_type": "code",
   "execution_count": 87,
   "id": "e9a9178c",
   "metadata": {},
   "outputs": [
    {
     "data": {
      "text/plain": [
       "Debt consolidation           152472\n",
       "Credit card refinancing       51487\n",
       "Home improvement              15264\n",
       "Other                         12930\n",
       "Debt Consolidation            11608\n",
       "Major purchase                 4769\n",
       "Consolidation                  3852\n",
       "debt consolidation             3547\n",
       "Business                       2949\n",
       "Debt Consolidation Loan        2864\n",
       "Medical expenses               2742\n",
       "Car financing                  2139\n",
       "Credit Card Consolidation      1775\n",
       "Vacation                       1717\n",
       "Moving and relocation          1689\n",
       "consolidation                  1595\n",
       "Personal Loan                  1591\n",
       "Consolidation Loan             1299\n",
       "Home Improvement               1268\n",
       "Home buying                    1183\n",
       "Name: title, dtype: int64"
      ]
     },
     "execution_count": 87,
     "metadata": {},
     "output_type": "execute_result"
    }
   ],
   "source": [
    "raw_df['title'].value_counts()[:20] # Calculating the top 20 most frequently ocurring categories in column 'title'"
   ]
  },
  {
   "cell_type": "markdown",
   "id": "e7d44596",
   "metadata": {},
   "source": [
    "It looks like there are many duplicated categories. For instance, Debt consolidation is captured as different values. We "
   ]
  },
  {
   "cell_type": "code",
   "execution_count": 88,
   "id": "98bf0393",
   "metadata": {},
   "outputs": [
    {
     "data": {
      "text/plain": [
       "48817"
      ]
     },
     "execution_count": 88,
     "metadata": {},
     "output_type": "execute_result"
    }
   ],
   "source": [
    "raw_df['title'].nunique() "
   ]
  },
  {
   "cell_type": "markdown",
   "id": "dbc8f4d2",
   "metadata": {},
   "source": [
    "Number of unique values is huge. We need to handle this."
   ]
  },
  {
   "cell_type": "code",
   "execution_count": 89,
   "id": "b41658ea",
   "metadata": {},
   "outputs": [
    {
     "data": {
      "text/plain": [
       "loan_amnt               0.0\n",
       "term                    0.0\n",
       "int_rate                0.0\n",
       "installment             0.0\n",
       "grade                   0.0\n",
       "sub_grade               0.0\n",
       "emp_title               5.8\n",
       "emp_length              4.6\n",
       "home_ownership          0.0\n",
       "annual_inc              0.0\n",
       "verification_status     0.0\n",
       "issue_d                 0.0\n",
       "loan_status             0.0\n",
       "purpose                 0.0\n",
       "title                   0.4\n",
       "dti                     0.0\n",
       "earliest_cr_line        0.0\n",
       "open_acc                0.0\n",
       "pub_rec                 0.0\n",
       "revol_bal               0.0\n",
       "revol_util              0.1\n",
       "total_acc               0.0\n",
       "initial_list_status     0.0\n",
       "application_type        0.0\n",
       "mort_acc                9.5\n",
       "pub_rec_bankruptcies    0.1\n",
       "address                 0.0\n",
       "dtype: float64"
      ]
     },
     "execution_count": 89,
     "metadata": {},
     "output_type": "execute_result"
    }
   ],
   "source": [
    "(raw_df.isna().sum(axis=0)*100/raw_df.shape[0]).round(1) # calculating percentage of nulls in all columns"
   ]
  },
  {
   "cell_type": "markdown",
   "id": "33968d4c",
   "metadata": {},
   "source": [
    "**Column 'emp_title'**: 5.8% of values missing the column.\n",
    "\n",
    "**Column 'emp_length'**: 4.60% of values missing in the column. Most of the rows where emp_title is missing, also has emp_lenth missing. We need to further explore on how to handle missing values in employment length.\n",
    "\n",
    "**Column 'mort_acc'**: 10% of values of column capturing 'number of mortgage accounts' or 'mort_acc' is missing. We need to decide how to handle these null values, as 10% is a considerable number.\n",
    "\n",
    "**Column 'pub_rec_bankruptcies'**: A very small number of values are missing for number of public records of bankruptcies. We will need to figure out how to best handle these missing values. However, the number if missing values is very small. We can afford to delete these rows. "
   ]
  },
  {
   "cell_type": "code",
   "execution_count": 90,
   "id": "6030bedc",
   "metadata": {},
   "outputs": [],
   "source": [
    "# Bifurcating into numeric and categorical data frames for plot distributions\n",
    " \n",
    "numeric_df = raw_df.select_dtypes(\"number\")\n",
    "categorical_df = raw_df.select_dtypes(\"object\")"
   ]
  },
  {
   "cell_type": "code",
   "execution_count": 91,
   "id": "19deadfe",
   "metadata": {},
   "outputs": [
    {
     "data": {
      "image/png": "[encoded data removed]",
      "text/plain": [
       "<Figure size 432x288 with 1 Axes>"
      ]
     },
     "metadata": {
      "needs_background": "light"
     },
     "output_type": "display_data"
    }
   ],
   "source": [
    "raw_df[\"term\"].value_counts(dropna=False, normalize=True).plot(kind=\"barh\")\n",
    "plt.title(\"Distribution of Term length\")\n",
    "plt.xlabel(\"Proportion\")\n",
    "plt.show()"
   ]
  },
  {
   "cell_type": "code",
   "execution_count": 92,
   "id": "95e0d0cf",
   "metadata": {},
   "outputs": [
    {
     "data": {
      "image/png": "[encoded data removed]",
      "text/plain": [
       "<Figure size 432x288 with 1 Axes>"
      ]
     },
     "metadata": {
      "needs_background": "light"
     },
     "output_type": "display_data"
    }
   ],
   "source": [
    "raw_df['loan_amnt'].hist(bins=10)\n",
    "\n",
    "# Adding labels\n",
    "plt.title('Loan Amount Distribution')\n",
    "plt.xlabel('Loan Amount')\n",
    "plt.ylabel('Number of Loans')\n",
    "\n",
    "plt.show()"
   ]
  },
  {
   "cell_type": "markdown",
   "id": "99542e2c",
   "metadata": {},
   "source": [
    "1. Maximum loans are in the range of 5k to 12.5k USD.\n",
    "2. Minimum loans are extended in range of 27k to 32k USD.\n"
   ]
  },
  {
   "cell_type": "code",
   "execution_count": 93,
   "id": "65b79dc6",
   "metadata": {},
   "outputs": [
    {
     "data": {
      "image/png": "[encoded data removed]",
      "text/plain": [
       "<Figure size 432x288 with 1 Axes>"
      ]
     },
     "metadata": {
      "needs_background": "light"
     },
     "output_type": "display_data"
    }
   ],
   "source": [
    "raw_df['int_rate'].hist(bins = 10)\n",
    "\n",
    "# Adding labels\n",
    "plt.title('Interest rate Distribution')\n",
    "plt.xlabel('Interest rate')\n",
    "plt.ylabel('Number of Loans')\n",
    "\n",
    "plt.show()"
   ]
  },
  {
   "cell_type": "markdown",
   "id": "98e4e506",
   "metadata": {},
   "source": [
    "Most loans are in the range of 11% to 16%. The loans above 21% taper off."
   ]
  },
  {
   "cell_type": "code",
   "execution_count": 96,
   "id": "6f48c206",
   "metadata": {},
   "outputs": [
    {
     "data": {
      "image/png": "[encoded data removed]",
      "text/plain": [
       "<Figure size 432x288 with 1 Axes>"
      ]
     },
     "metadata": {
      "needs_background": "light"
     },
     "output_type": "display_data"
    }
   ],
   "source": [
    "raw_df['installment'].hist(bins = 10)\n",
    "\n",
    "# Adding labels\n",
    "plt.title('Installment Distribution')\n",
    "plt.xlabel('Installment amount')\n",
    "plt.ylabel('Number of Loans')\n",
    "\n",
    "plt.show()"
   ]
  },
  {
   "cell_type": "code",
   "execution_count": 97,
   "id": "8eebaa84",
   "metadata": {},
   "outputs": [
    {
     "data": {
      "image/png": "[encoded data removed]",
      "text/plain": [
       "<Figure size 432x288 with 1 Axes>"
      ]
     },
     "metadata": {
      "needs_background": "light"
     },
     "output_type": "display_data"
    }
   ],
   "source": [
    "\n",
    "\n",
    "raw_df['grade'].value_counts(dropna=False, normalize=True).plot(kind=\"barh\")\n",
    "plt.title(\"Distribution of grades\")\n",
    "plt.xlabel(\"Proportion\")\n",
    "plt.show()"
   ]
  },
  {
   "cell_type": "code",
   "execution_count": 98,
   "id": "1e09a454",
   "metadata": {},
   "outputs": [
    {
     "data": {
      "image/png": "[encoded data removed]",
      "text/plain": [
       "<Figure size 432x288 with 1 Axes>"
      ]
     },
     "metadata": {
      "needs_background": "light"
     },
     "output_type": "display_data"
    }
   ],
   "source": [
    "raw_df['sub_grade'].value_counts(dropna=False, normalize=True).plot(kind=\"barh\")\n",
    "plt.title(\"Distribution of sub-grades\")\n",
    "plt.xlabel(\"Proportion\")\n",
    "plt.show()"
   ]
  },
  {
   "cell_type": "code",
   "execution_count": 106,
   "id": "3d7bfe51",
   "metadata": {},
   "outputs": [
    {
     "data": {
      "image/png": "[encoded data removed]",
      "text/plain": [
       "<Figure size 432x288 with 1 Axes>"
      ]
     },
     "metadata": {
      "needs_background": "light"
     },
     "output_type": "display_data"
    }
   ],
   "source": [
    "raw_df['annual_inc'].hist(bins = 100, density= True)\n",
    "\n",
    "# Adding labels\n",
    "plt.title('Annual Income Distribution')\n",
    "plt.xlabel('Annual income amount')\n",
    "plt.ylabel('Number of Loans')\n",
    "\n",
    "plt.show()"
   ]
  },
  {
   "cell_type": "code",
   "execution_count": 107,
   "id": "3e9303c5",
   "metadata": {},
   "outputs": [
    {
     "data": {
      "image/png": "[encoded data removed]",
      "text/plain": [
       "<Figure size 432x288 with 1 Axes>"
      ]
     },
     "metadata": {
      "needs_background": "light"
     },
     "output_type": "display_data"
    }
   ],
   "source": [
    "raw_df['loan_status'].value_counts(dropna=False, normalize=True).plot(kind=\"barh\")\n",
    "plt.title(\"Distribution of loan_status\")\n",
    "plt.xlabel(\"Proportion\")\n",
    "plt.show()"
   ]
  },
  {
   "cell_type": "code",
   "execution_count": 110,
   "id": "fd93d1e5",
   "metadata": {},
   "outputs": [
    {
     "data": {
      "image/png": "[encoded data removed]",
      "text/plain": [
       "<Figure size 432x288 with 1 Axes>"
      ]
     },
     "metadata": {
      "needs_background": "light"
     },
     "output_type": "display_data"
    }
   ],
   "source": [
    "\n",
    "plt.scatter(raw_df['loan_amnt'], raw_df['annual_inc'])\n",
    "\n",
    "\n",
    "plt.title('Scatter Plot of loan_amnt vs annual_inc')\n",
    "plt.xlabel('loan_amnt')\n",
    "plt.ylabel('annual_inc')\n",
    "\n",
    "# Show the plot\n",
    "plt.show()"
   ]
  },
  {
   "cell_type": "code",
   "execution_count": 119,
   "id": "3c211c24",
   "metadata": {},
   "outputs": [
    {
     "data": {
      "image/png": "[encoded data removed]",
      "text/plain": [
       "<Figure size 432x288 with 1 Axes>"
      ]
     },
     "metadata": {
      "needs_background": "light"
     },
     "output_type": "display_data"
    }
   ],
   "source": [
    "rates = raw_df.groupby([\"grade\", \"term\"])[\"term\"].count()/raw_df.groupby([\"grade\"])[\"term\"].count()\n",
    "rates.unstack().plot(kind=\"barh\", stacked=True)\n",
    "sns.despine()"
   ]
  },
  {
   "cell_type": "code",
   "execution_count": null,
   "id": "9ec44797",
   "metadata": {},
   "outputs": [],
   "source": []
  }
 ],
 "metadata": {
  "kernelspec": {
   "display_name": "basicpythonkernel",
   "language": "python",
   "name": "basicpythonkernel"
  },
  "language_info": {
   "codemirror_mode": {
    "name": "ipython",
    "version": 3
   },
   "file_extension": ".py",
   "mimetype": "text/x-python",
   "name": "python",
   "nbconvert_exporter": "python",
   "pygments_lexer": "ipython3",
   "version": "3.9.12"
  }
 },
 "nbformat": 4,
 "nbformat_minor": 5
}
